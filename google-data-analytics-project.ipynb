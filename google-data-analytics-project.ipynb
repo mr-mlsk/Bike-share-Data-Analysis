{
 "cells": [
  {
   "cell_type": "markdown",
   "id": "3cd183c2",
   "metadata": {
    "_execution_state": "idle",
    "_uuid": "051d70d956493feee0c6d64651c6a088724dca2a",
    "papermill": {
     "duration": 0.032295,
     "end_time": "2021-06-03T09:20:58.950091",
     "exception": false,
     "start_time": "2021-06-03T09:20:58.917796",
     "status": "completed"
    },
    "tags": []
   },
   "source": [
    "# Cyclistic Bikeshare \n",
    "\n",
    "**M.Lakshmi siva kumar**\n",
    "\n",
    "\n",
    "\n",
    "## Introduction\n",
    "\n",
    "This exploratory analysis case study is towards Capstome project requirement for [Google Data Analytics Professional Certificate](https://www.coursera.org/professional-certificates/google-data-analytics). The case study involves a bikeshare company's data of its customer's trip details over a 12 month period (April 2020 - March 2021). \n",
    "#### Scenario\n",
    "\n",
    "Marketing team needs to design marketing strategies aimed at converting casual riders into annual members. In order to do that, however, the marketing analyst team needs to better understand how annual members and casual riders differ.\n",
    "\n",
    "## Objective\n",
    "\n",
    "Hence, my objective for this analysis is to throw some light on how the two types of customers: annual members and casual riders, use Cyclistic bikeshare differently, based on few parameters that can be calculated/ obtained from existing data.\n",
    "\n",
    "## Data Sources \n",
    "\n",
    "A total of 12 datasets have been made available for each month starting from April 2020 to March 2021. Each dataset captures the details of every ride logged by the customers of Cyclistic. This data that has been made publicly available has been scrubbed to omit rider's personal information.\n",
    "\n",
    "## Documentation, Cleaning and Preparation of data for analysis\n",
    "\n",
    "The combined size of all the 12 datasets is close to 600 MB. Data cleaning in spreadsheets will be time-consuming and slow compared to SQL or R. I am choosing R simply because I could do both data wrangling and analysis/ visualizations in the same platform. It is also an opportunity for me to learn R better.\n",
    "\n",
    "#### Load libraries"
   ]
  },
  {
   "cell_type": "code",
   "execution_count": 1,
   "id": "3cf7c925",
   "metadata": {
    "execution": {
     "iopub.execute_input": "2021-06-03T09:20:59.019907Z",
     "iopub.status.busy": "2021-06-03T09:20:59.017201Z",
     "iopub.status.idle": "2021-06-03T09:21:00.815709Z",
     "shell.execute_reply": "2021-06-03T09:21:00.814304Z"
    },
    "papermill": {
     "duration": 1.834431,
     "end_time": "2021-06-03T09:21:00.815974",
     "exception": false,
     "start_time": "2021-06-03T09:20:58.981543",
     "status": "completed"
    },
    "tags": [],
    "vscode": {
     "languageId": "r"
    }
   },
   "outputs": [
    {
     "name": "stderr",
     "output_type": "stream",
     "text": [
      "── \u001b[1mAttaching packages\u001b[22m ─────────────────────────────────────── tidyverse 1.3.0 ──\n",
      "\n",
      "\u001b[32m✔\u001b[39m \u001b[34mggplot2\u001b[39m 3.3.3     \u001b[32m✔\u001b[39m \u001b[34mpurrr  \u001b[39m 0.3.4\n",
      "\u001b[32m✔\u001b[39m \u001b[34mtibble \u001b[39m 3.1.1     \u001b[32m✔\u001b[39m \u001b[34mdplyr  \u001b[39m 1.0.5\n",
      "\u001b[32m✔\u001b[39m \u001b[34mtidyr  \u001b[39m 1.1.3     \u001b[32m✔\u001b[39m \u001b[34mstringr\u001b[39m 1.4.0\n",
      "\u001b[32m✔\u001b[39m \u001b[34mreadr  \u001b[39m 1.4.0     \u001b[32m✔\u001b[39m \u001b[34mforcats\u001b[39m 0.5.0\n",
      "\n",
      "── \u001b[1mConflicts\u001b[22m ────────────────────────────────────────── tidyverse_conflicts() ──\n",
      "\u001b[31m✖\u001b[39m \u001b[34mdplyr\u001b[39m::\u001b[32mfilter()\u001b[39m masks \u001b[34mstats\u001b[39m::filter()\n",
      "\u001b[31m✖\u001b[39m \u001b[34mdplyr\u001b[39m::\u001b[32mlag()\u001b[39m    masks \u001b[34mstats\u001b[39m::lag()\n",
      "\n",
      "\n",
      "Attaching package: ‘lubridate’\n",
      "\n",
      "\n",
      "The following objects are masked from ‘package:base’:\n",
      "\n",
      "    date, intersect, setdiff, union\n",
      "\n",
      "\n",
      "\n",
      "Attaching package: ‘janitor’\n",
      "\n",
      "\n",
      "The following objects are masked from ‘package:stats’:\n",
      "\n",
      "    chisq.test, fisher.test\n",
      "\n",
      "\n",
      "\n",
      "Attaching package: ‘data.table’\n",
      "\n",
      "\n",
      "The following objects are masked from ‘package:lubridate’:\n",
      "\n",
      "    hour, isoweek, mday, minute, month, quarter, second, wday, week,\n",
      "    yday, year\n",
      "\n",
      "\n",
      "The following objects are masked from ‘package:dplyr’:\n",
      "\n",
      "    between, first, last\n",
      "\n",
      "\n",
      "The following object is masked from ‘package:purrr’:\n",
      "\n",
      "    transpose\n",
      "\n",
      "\n"
     ]
    }
   ],
   "source": [
    "library(tidyverse)\n",
    "library(ggplot2)\n",
    "library(lubridate)\n",
    "library(dplyr)\n",
    "library(readr)\n",
    "library(janitor)\n",
    "library(data.table)\n",
    "library(tidyr)"
   ]
  },
  {
   "cell_type": "markdown",
   "id": "330d9d33",
   "metadata": {
    "papermill": {
     "duration": 0.035223,
     "end_time": "2021-06-03T09:21:00.887174",
     "exception": false,
     "start_time": "2021-06-03T09:21:00.851951",
     "status": "completed"
    },
    "tags": []
   },
   "source": [
    "#### Load datasets "
   ]
  },
  {
   "cell_type": "code",
   "execution_count": 2,
   "id": "4e27e1c6",
   "metadata": {
    "execution": {
     "iopub.execute_input": "2021-06-03T09:21:01.002760Z",
     "iopub.status.busy": "2021-06-03T09:21:00.961419Z",
     "iopub.status.idle": "2021-06-03T09:21:31.710570Z",
     "shell.execute_reply": "2021-06-03T09:21:31.709249Z"
    },
    "papermill": {
     "duration": 30.788875,
     "end_time": "2021-06-03T09:21:31.710807",
     "exception": false,
     "start_time": "2021-06-03T09:21:00.921932",
     "status": "completed"
    },
    "tags": [],
    "vscode": {
     "languageId": "r"
    }
   },
   "outputs": [
    {
     "name": "stderr",
     "output_type": "stream",
     "text": [
      "\n",
      "\u001b[36m──\u001b[39m \u001b[1m\u001b[1mColumn specification\u001b[1m\u001b[22m \u001b[36m────────────────────────────────────────────────────────\u001b[39m\n",
      "cols(\n",
      "  ride_id = \u001b[31mcol_character()\u001b[39m,\n",
      "  rideable_type = \u001b[31mcol_character()\u001b[39m,\n",
      "  started_at = \u001b[34mcol_datetime(format = \"\")\u001b[39m,\n",
      "  ended_at = \u001b[34mcol_datetime(format = \"\")\u001b[39m,\n",
      "  start_station_name = \u001b[31mcol_character()\u001b[39m,\n",
      "  start_station_id = \u001b[32mcol_double()\u001b[39m,\n",
      "  end_station_name = \u001b[31mcol_character()\u001b[39m,\n",
      "  end_station_id = \u001b[32mcol_double()\u001b[39m,\n",
      "  start_lat = \u001b[32mcol_double()\u001b[39m,\n",
      "  start_lng = \u001b[32mcol_double()\u001b[39m,\n",
      "  end_lat = \u001b[32mcol_double()\u001b[39m,\n",
      "  end_lng = \u001b[32mcol_double()\u001b[39m,\n",
      "  member_casual = \u001b[31mcol_character()\u001b[39m\n",
      ")\n",
      "\n",
      "\n",
      "\n",
      "\u001b[36m──\u001b[39m \u001b[1m\u001b[1mColumn specification\u001b[1m\u001b[22m \u001b[36m────────────────────────────────────────────────────────\u001b[39m\n",
      "cols(\n",
      "  ride_id = \u001b[31mcol_character()\u001b[39m,\n",
      "  rideable_type = \u001b[31mcol_character()\u001b[39m,\n",
      "  started_at = \u001b[34mcol_datetime(format = \"\")\u001b[39m,\n",
      "  ended_at = \u001b[34mcol_datetime(format = \"\")\u001b[39m,\n",
      "  start_station_name = \u001b[31mcol_character()\u001b[39m,\n",
      "  start_station_id = \u001b[32mcol_double()\u001b[39m,\n",
      "  end_station_name = \u001b[31mcol_character()\u001b[39m,\n",
      "  end_station_id = \u001b[32mcol_double()\u001b[39m,\n",
      "  start_lat = \u001b[32mcol_double()\u001b[39m,\n",
      "  start_lng = \u001b[32mcol_double()\u001b[39m,\n",
      "  end_lat = \u001b[32mcol_double()\u001b[39m,\n",
      "  end_lng = \u001b[32mcol_double()\u001b[39m,\n",
      "  member_casual = \u001b[31mcol_character()\u001b[39m\n",
      ")\n",
      "\n",
      "\n",
      "\n",
      "\u001b[36m──\u001b[39m \u001b[1m\u001b[1mColumn specification\u001b[1m\u001b[22m \u001b[36m────────────────────────────────────────────────────────\u001b[39m\n",
      "cols(\n",
      "  ride_id = \u001b[31mcol_character()\u001b[39m,\n",
      "  rideable_type = \u001b[31mcol_character()\u001b[39m,\n",
      "  started_at = \u001b[34mcol_datetime(format = \"\")\u001b[39m,\n",
      "  ended_at = \u001b[34mcol_datetime(format = \"\")\u001b[39m,\n",
      "  start_station_name = \u001b[31mcol_character()\u001b[39m,\n",
      "  start_station_id = \u001b[32mcol_double()\u001b[39m,\n",
      "  end_station_name = \u001b[31mcol_character()\u001b[39m,\n",
      "  end_station_id = \u001b[32mcol_double()\u001b[39m,\n",
      "  start_lat = \u001b[32mcol_double()\u001b[39m,\n",
      "  start_lng = \u001b[32mcol_double()\u001b[39m,\n",
      "  end_lat = \u001b[32mcol_double()\u001b[39m,\n",
      "  end_lng = \u001b[32mcol_double()\u001b[39m,\n",
      "  member_casual = \u001b[31mcol_character()\u001b[39m\n",
      ")\n",
      "\n",
      "\n",
      "\n",
      "\u001b[36m──\u001b[39m \u001b[1m\u001b[1mColumn specification\u001b[1m\u001b[22m \u001b[36m────────────────────────────────────────────────────────\u001b[39m\n",
      "cols(\n",
      "  ride_id = \u001b[31mcol_character()\u001b[39m,\n",
      "  rideable_type = \u001b[31mcol_character()\u001b[39m,\n",
      "  started_at = \u001b[34mcol_datetime(format = \"\")\u001b[39m,\n",
      "  ended_at = \u001b[34mcol_datetime(format = \"\")\u001b[39m,\n",
      "  start_station_name = \u001b[31mcol_character()\u001b[39m,\n",
      "  start_station_id = \u001b[32mcol_double()\u001b[39m,\n",
      "  end_station_name = \u001b[31mcol_character()\u001b[39m,\n",
      "  end_station_id = \u001b[32mcol_double()\u001b[39m,\n",
      "  start_lat = \u001b[32mcol_double()\u001b[39m,\n",
      "  start_lng = \u001b[32mcol_double()\u001b[39m,\n",
      "  end_lat = \u001b[32mcol_double()\u001b[39m,\n",
      "  end_lng = \u001b[32mcol_double()\u001b[39m,\n",
      "  member_casual = \u001b[31mcol_character()\u001b[39m\n",
      ")\n",
      "\n",
      "\n",
      "\n",
      "\u001b[36m──\u001b[39m \u001b[1m\u001b[1mColumn specification\u001b[1m\u001b[22m \u001b[36m────────────────────────────────────────────────────────\u001b[39m\n",
      "cols(\n",
      "  ride_id = \u001b[31mcol_character()\u001b[39m,\n",
      "  rideable_type = \u001b[31mcol_character()\u001b[39m,\n",
      "  started_at = \u001b[34mcol_datetime(format = \"\")\u001b[39m,\n",
      "  ended_at = \u001b[34mcol_datetime(format = \"\")\u001b[39m,\n",
      "  start_station_name = \u001b[31mcol_character()\u001b[39m,\n",
      "  start_station_id = \u001b[32mcol_double()\u001b[39m,\n",
      "  end_station_name = \u001b[31mcol_character()\u001b[39m,\n",
      "  end_station_id = \u001b[32mcol_double()\u001b[39m,\n",
      "  start_lat = \u001b[32mcol_double()\u001b[39m,\n",
      "  start_lng = \u001b[32mcol_double()\u001b[39m,\n",
      "  end_lat = \u001b[32mcol_double()\u001b[39m,\n",
      "  end_lng = \u001b[32mcol_double()\u001b[39m,\n",
      "  member_casual = \u001b[31mcol_character()\u001b[39m\n",
      ")\n",
      "\n",
      "\n",
      "\n",
      "\u001b[36m──\u001b[39m \u001b[1m\u001b[1mColumn specification\u001b[1m\u001b[22m \u001b[36m────────────────────────────────────────────────────────\u001b[39m\n",
      "cols(\n",
      "  ride_id = \u001b[31mcol_character()\u001b[39m,\n",
      "  rideable_type = \u001b[31mcol_character()\u001b[39m,\n",
      "  started_at = \u001b[34mcol_datetime(format = \"\")\u001b[39m,\n",
      "  ended_at = \u001b[34mcol_datetime(format = \"\")\u001b[39m,\n",
      "  start_station_name = \u001b[31mcol_character()\u001b[39m,\n",
      "  start_station_id = \u001b[32mcol_double()\u001b[39m,\n",
      "  end_station_name = \u001b[31mcol_character()\u001b[39m,\n",
      "  end_station_id = \u001b[32mcol_double()\u001b[39m,\n",
      "  start_lat = \u001b[32mcol_double()\u001b[39m,\n",
      "  start_lng = \u001b[32mcol_double()\u001b[39m,\n",
      "  end_lat = \u001b[32mcol_double()\u001b[39m,\n",
      "  end_lng = \u001b[32mcol_double()\u001b[39m,\n",
      "  member_casual = \u001b[31mcol_character()\u001b[39m\n",
      ")\n",
      "\n",
      "\n",
      "\n",
      "\u001b[36m──\u001b[39m \u001b[1m\u001b[1mColumn specification\u001b[1m\u001b[22m \u001b[36m────────────────────────────────────────────────────────\u001b[39m\n",
      "cols(\n",
      "  ride_id = \u001b[31mcol_character()\u001b[39m,\n",
      "  rideable_type = \u001b[31mcol_character()\u001b[39m,\n",
      "  started_at = \u001b[34mcol_datetime(format = \"\")\u001b[39m,\n",
      "  ended_at = \u001b[34mcol_datetime(format = \"\")\u001b[39m,\n",
      "  start_station_name = \u001b[31mcol_character()\u001b[39m,\n",
      "  start_station_id = \u001b[32mcol_double()\u001b[39m,\n",
      "  end_station_name = \u001b[31mcol_character()\u001b[39m,\n",
      "  end_station_id = \u001b[32mcol_double()\u001b[39m,\n",
      "  start_lat = \u001b[32mcol_double()\u001b[39m,\n",
      "  start_lng = \u001b[32mcol_double()\u001b[39m,\n",
      "  end_lat = \u001b[32mcol_double()\u001b[39m,\n",
      "  end_lng = \u001b[32mcol_double()\u001b[39m,\n",
      "  member_casual = \u001b[31mcol_character()\u001b[39m\n",
      ")\n",
      "\n",
      "\n",
      "\n",
      "\u001b[36m──\u001b[39m \u001b[1m\u001b[1mColumn specification\u001b[1m\u001b[22m \u001b[36m────────────────────────────────────────────────────────\u001b[39m\n",
      "cols(\n",
      "  ride_id = \u001b[31mcol_character()\u001b[39m,\n",
      "  rideable_type = \u001b[31mcol_character()\u001b[39m,\n",
      "  started_at = \u001b[34mcol_datetime(format = \"\")\u001b[39m,\n",
      "  ended_at = \u001b[34mcol_datetime(format = \"\")\u001b[39m,\n",
      "  start_station_name = \u001b[31mcol_character()\u001b[39m,\n",
      "  start_station_id = \u001b[32mcol_double()\u001b[39m,\n",
      "  end_station_name = \u001b[31mcol_character()\u001b[39m,\n",
      "  end_station_id = \u001b[32mcol_double()\u001b[39m,\n",
      "  start_lat = \u001b[32mcol_double()\u001b[39m,\n",
      "  start_lng = \u001b[32mcol_double()\u001b[39m,\n",
      "  end_lat = \u001b[32mcol_double()\u001b[39m,\n",
      "  end_lng = \u001b[32mcol_double()\u001b[39m,\n",
      "  member_casual = \u001b[31mcol_character()\u001b[39m\n",
      ")\n",
      "\n",
      "\n",
      "\n",
      "\u001b[36m──\u001b[39m \u001b[1m\u001b[1mColumn specification\u001b[1m\u001b[22m \u001b[36m────────────────────────────────────────────────────────\u001b[39m\n",
      "cols(\n",
      "  ride_id = \u001b[31mcol_character()\u001b[39m,\n",
      "  rideable_type = \u001b[31mcol_character()\u001b[39m,\n",
      "  started_at = \u001b[34mcol_datetime(format = \"\")\u001b[39m,\n",
      "  ended_at = \u001b[34mcol_datetime(format = \"\")\u001b[39m,\n",
      "  start_station_name = \u001b[31mcol_character()\u001b[39m,\n",
      "  start_station_id = \u001b[31mcol_character()\u001b[39m,\n",
      "  end_station_name = \u001b[31mcol_character()\u001b[39m,\n",
      "  end_station_id = \u001b[31mcol_character()\u001b[39m,\n",
      "  start_lat = \u001b[32mcol_double()\u001b[39m,\n",
      "  start_lng = \u001b[32mcol_double()\u001b[39m,\n",
      "  end_lat = \u001b[32mcol_double()\u001b[39m,\n",
      "  end_lng = \u001b[32mcol_double()\u001b[39m,\n",
      "  member_casual = \u001b[31mcol_character()\u001b[39m\n",
      ")\n",
      "\n",
      "\n",
      "\n",
      "\u001b[36m──\u001b[39m \u001b[1m\u001b[1mColumn specification\u001b[1m\u001b[22m \u001b[36m────────────────────────────────────────────────────────\u001b[39m\n",
      "cols(\n",
      "  ride_id = \u001b[31mcol_character()\u001b[39m,\n",
      "  rideable_type = \u001b[31mcol_character()\u001b[39m,\n",
      "  started_at = \u001b[34mcol_datetime(format = \"\")\u001b[39m,\n",
      "  ended_at = \u001b[34mcol_datetime(format = \"\")\u001b[39m,\n",
      "  start_station_name = \u001b[31mcol_character()\u001b[39m,\n",
      "  start_station_id = \u001b[31mcol_character()\u001b[39m,\n",
      "  end_station_name = \u001b[31mcol_character()\u001b[39m,\n",
      "  end_station_id = \u001b[31mcol_character()\u001b[39m,\n",
      "  start_lat = \u001b[32mcol_double()\u001b[39m,\n",
      "  start_lng = \u001b[32mcol_double()\u001b[39m,\n",
      "  end_lat = \u001b[32mcol_double()\u001b[39m,\n",
      "  end_lng = \u001b[32mcol_double()\u001b[39m,\n",
      "  member_casual = \u001b[31mcol_character()\u001b[39m\n",
      ")\n",
      "\n",
      "\n",
      "\n",
      "\u001b[36m──\u001b[39m \u001b[1m\u001b[1mColumn specification\u001b[1m\u001b[22m \u001b[36m────────────────────────────────────────────────────────\u001b[39m\n",
      "cols(\n",
      "  ride_id = \u001b[31mcol_character()\u001b[39m,\n",
      "  rideable_type = \u001b[31mcol_character()\u001b[39m,\n",
      "  started_at = \u001b[34mcol_datetime(format = \"\")\u001b[39m,\n",
      "  ended_at = \u001b[34mcol_datetime(format = \"\")\u001b[39m,\n",
      "  start_station_name = \u001b[31mcol_character()\u001b[39m,\n",
      "  start_station_id = \u001b[31mcol_character()\u001b[39m,\n",
      "  end_station_name = \u001b[31mcol_character()\u001b[39m,\n",
      "  end_station_id = \u001b[31mcol_character()\u001b[39m,\n",
      "  start_lat = \u001b[32mcol_double()\u001b[39m,\n",
      "  start_lng = \u001b[32mcol_double()\u001b[39m,\n",
      "  end_lat = \u001b[32mcol_double()\u001b[39m,\n",
      "  end_lng = \u001b[32mcol_double()\u001b[39m,\n",
      "  member_casual = \u001b[31mcol_character()\u001b[39m\n",
      ")\n",
      "\n",
      "\n",
      "\n",
      "\u001b[36m──\u001b[39m \u001b[1m\u001b[1mColumn specification\u001b[1m\u001b[22m \u001b[36m────────────────────────────────────────────────────────\u001b[39m\n",
      "cols(\n",
      "  ride_id = \u001b[31mcol_character()\u001b[39m,\n",
      "  rideable_type = \u001b[31mcol_character()\u001b[39m,\n",
      "  started_at = \u001b[34mcol_datetime(format = \"\")\u001b[39m,\n",
      "  ended_at = \u001b[34mcol_datetime(format = \"\")\u001b[39m,\n",
      "  start_station_name = \u001b[31mcol_character()\u001b[39m,\n",
      "  start_station_id = \u001b[31mcol_character()\u001b[39m,\n",
      "  end_station_name = \u001b[31mcol_character()\u001b[39m,\n",
      "  end_station_id = \u001b[31mcol_character()\u001b[39m,\n",
      "  start_lat = \u001b[32mcol_double()\u001b[39m,\n",
      "  start_lng = \u001b[32mcol_double()\u001b[39m,\n",
      "  end_lat = \u001b[32mcol_double()\u001b[39m,\n",
      "  end_lng = \u001b[32mcol_double()\u001b[39m,\n",
      "  member_casual = \u001b[31mcol_character()\u001b[39m\n",
      ")\n",
      "\n",
      "\n"
     ]
    }
   ],
   "source": [
    "apr20 <- read_csv(\"../input/divvy-chicago-bikesharing-data/202004-divvy-tripdata/202004-divvy-tripdata.csv\")\n",
    "may20 <- read_csv(\"../input/divvy-chicago-bikesharing-data/202005-divvy-tripdata/202005-divvy-tripdata.csv\")\n",
    "jun20 <- read_csv(\"../input/divvy-chicago-bikesharing-data/202006-divvy-tripdata/202006-divvy-tripdata.csv\")\n",
    "jul20 <- read_csv(\"../input/divvy-chicago-bikesharing-data/202007-divvy-tripdata/202007-divvy-tripdata.csv\")\n",
    "aug20 <- read_csv(\"../input/divvy-chicago-bikesharing-data/202008-divvy-tripdata/202008-divvy-tripdata.csv\")\n",
    "sep20 <- read_csv(\"../input/divvy-chicago-bikesharing-data/202009-divvy-tripdata/202009-divvy-tripdata.csv\")\n",
    "oct20 <- read_csv(\"../input/divvy-chicago-bikesharing-data/202010-divvy-tripdata/202010-divvy-tripdata.csv\")\n",
    "nov20 <- read_csv(\"../input/divvy-chicago-bikesharing-data/202011-divvy-tripdata/202011-divvy-tripdata.csv\")\n",
    "dec20 <- read_csv(\"../input/divvy-chicago-bikesharing-data/202012-divvy-tripdata/202012-divvy-tripdata.csv\")\n",
    "jan21 <- read_csv(\"../input/divvy-chicago-bikesharing-data/202101-divvy-tripdata/202101-divvy-tripdata.csv\")\n",
    "feb21 <- read_csv(\"../input/divvy-chicago-bikesharing-data/202102-divvy-tripdata/202102-divvy-tripdata.csv\")\n",
    "mar21 <- read_csv(\"../input/divvy-chicago-bikesharing-data/202103-divvy-tripdata/202103-divvy-tripdata.csv\")\n"
   ]
  },
  {
   "cell_type": "markdown",
   "id": "ddbc2aa7",
   "metadata": {
    "papermill": {
     "duration": 0.038681,
     "end_time": "2021-06-03T09:21:31.790038",
     "exception": false,
     "start_time": "2021-06-03T09:21:31.751357",
     "status": "completed"
    },
    "tags": []
   },
   "source": [
    "#### Check column names of each dataset for consistency"
   ]
  },
  {
   "cell_type": "code",
   "execution_count": 3,
   "id": "9b6fbe9e",
   "metadata": {
    "execution": {
     "iopub.execute_input": "2021-06-03T09:21:31.873510Z",
     "iopub.status.busy": "2021-06-03T09:21:31.872139Z",
     "iopub.status.idle": "2021-06-03T09:21:31.967209Z",
     "shell.execute_reply": "2021-06-03T09:21:31.965585Z"
    },
    "papermill": {
     "duration": 0.138594,
     "end_time": "2021-06-03T09:21:31.967392",
     "exception": false,
     "start_time": "2021-06-03T09:21:31.828798",
     "status": "completed"
    },
    "tags": [],
    "vscode": {
     "languageId": "r"
    }
   },
   "outputs": [
    {
     "data": {
      "text/html": [
       "<style>\n",
       ".list-inline {list-style: none; margin:0; padding: 0}\n",
       ".list-inline>li {display: inline-block}\n",
       ".list-inline>li:not(:last-child)::after {content: \"\\00b7\"; padding: 0 .5ex}\n",
       "</style>\n",
       "<ol class=list-inline><li>'ride_id'</li><li>'rideable_type'</li><li>'started_at'</li><li>'ended_at'</li><li>'start_station_name'</li><li>'start_station_id'</li><li>'end_station_name'</li><li>'end_station_id'</li><li>'start_lat'</li><li>'start_lng'</li><li>'end_lat'</li><li>'end_lng'</li><li>'member_casual'</li></ol>\n"
      ],
      "text/latex": [
       "\\begin{enumerate*}\n",
       "\\item 'ride\\_id'\n",
       "\\item 'rideable\\_type'\n",
       "\\item 'started\\_at'\n",
       "\\item 'ended\\_at'\n",
       "\\item 'start\\_station\\_name'\n",
       "\\item 'start\\_station\\_id'\n",
       "\\item 'end\\_station\\_name'\n",
       "\\item 'end\\_station\\_id'\n",
       "\\item 'start\\_lat'\n",
       "\\item 'start\\_lng'\n",
       "\\item 'end\\_lat'\n",
       "\\item 'end\\_lng'\n",
       "\\item 'member\\_casual'\n",
       "\\end{enumerate*}\n"
      ],
      "text/markdown": [
       "1. 'ride_id'\n",
       "2. 'rideable_type'\n",
       "3. 'started_at'\n",
       "4. 'ended_at'\n",
       "5. 'start_station_name'\n",
       "6. 'start_station_id'\n",
       "7. 'end_station_name'\n",
       "8. 'end_station_id'\n",
       "9. 'start_lat'\n",
       "10. 'start_lng'\n",
       "11. 'end_lat'\n",
       "12. 'end_lng'\n",
       "13. 'member_casual'\n",
       "\n",
       "\n"
      ],
      "text/plain": [
       " [1] \"ride_id\"            \"rideable_type\"      \"started_at\"        \n",
       " [4] \"ended_at\"           \"start_station_name\" \"start_station_id\"  \n",
       " [7] \"end_station_name\"   \"end_station_id\"     \"start_lat\"         \n",
       "[10] \"start_lng\"          \"end_lat\"            \"end_lng\"           \n",
       "[13] \"member_casual\"     "
      ]
     },
     "metadata": {},
     "output_type": "display_data"
    },
    {
     "data": {
      "text/html": [
       "<style>\n",
       ".list-inline {list-style: none; margin:0; padding: 0}\n",
       ".list-inline>li {display: inline-block}\n",
       ".list-inline>li:not(:last-child)::after {content: \"\\00b7\"; padding: 0 .5ex}\n",
       "</style>\n",
       "<ol class=list-inline><li>'ride_id'</li><li>'rideable_type'</li><li>'started_at'</li><li>'ended_at'</li><li>'start_station_name'</li><li>'start_station_id'</li><li>'end_station_name'</li><li>'end_station_id'</li><li>'start_lat'</li><li>'start_lng'</li><li>'end_lat'</li><li>'end_lng'</li><li>'member_casual'</li></ol>\n"
      ],
      "text/latex": [
       "\\begin{enumerate*}\n",
       "\\item 'ride\\_id'\n",
       "\\item 'rideable\\_type'\n",
       "\\item 'started\\_at'\n",
       "\\item 'ended\\_at'\n",
       "\\item 'start\\_station\\_name'\n",
       "\\item 'start\\_station\\_id'\n",
       "\\item 'end\\_station\\_name'\n",
       "\\item 'end\\_station\\_id'\n",
       "\\item 'start\\_lat'\n",
       "\\item 'start\\_lng'\n",
       "\\item 'end\\_lat'\n",
       "\\item 'end\\_lng'\n",
       "\\item 'member\\_casual'\n",
       "\\end{enumerate*}\n"
      ],
      "text/markdown": [
       "1. 'ride_id'\n",
       "2. 'rideable_type'\n",
       "3. 'started_at'\n",
       "4. 'ended_at'\n",
       "5. 'start_station_name'\n",
       "6. 'start_station_id'\n",
       "7. 'end_station_name'\n",
       "8. 'end_station_id'\n",
       "9. 'start_lat'\n",
       "10. 'start_lng'\n",
       "11. 'end_lat'\n",
       "12. 'end_lng'\n",
       "13. 'member_casual'\n",
       "\n",
       "\n"
      ],
      "text/plain": [
       " [1] \"ride_id\"            \"rideable_type\"      \"started_at\"        \n",
       " [4] \"ended_at\"           \"start_station_name\" \"start_station_id\"  \n",
       " [7] \"end_station_name\"   \"end_station_id\"     \"start_lat\"         \n",
       "[10] \"start_lng\"          \"end_lat\"            \"end_lng\"           \n",
       "[13] \"member_casual\"     "
      ]
     },
     "metadata": {},
     "output_type": "display_data"
    },
    {
     "data": {
      "text/html": [
       "<style>\n",
       ".list-inline {list-style: none; margin:0; padding: 0}\n",
       ".list-inline>li {display: inline-block}\n",
       ".list-inline>li:not(:last-child)::after {content: \"\\00b7\"; padding: 0 .5ex}\n",
       "</style>\n",
       "<ol class=list-inline><li>'ride_id'</li><li>'rideable_type'</li><li>'started_at'</li><li>'ended_at'</li><li>'start_station_name'</li><li>'start_station_id'</li><li>'end_station_name'</li><li>'end_station_id'</li><li>'start_lat'</li><li>'start_lng'</li><li>'end_lat'</li><li>'end_lng'</li><li>'member_casual'</li></ol>\n"
      ],
      "text/latex": [
       "\\begin{enumerate*}\n",
       "\\item 'ride\\_id'\n",
       "\\item 'rideable\\_type'\n",
       "\\item 'started\\_at'\n",
       "\\item 'ended\\_at'\n",
       "\\item 'start\\_station\\_name'\n",
       "\\item 'start\\_station\\_id'\n",
       "\\item 'end\\_station\\_name'\n",
       "\\item 'end\\_station\\_id'\n",
       "\\item 'start\\_lat'\n",
       "\\item 'start\\_lng'\n",
       "\\item 'end\\_lat'\n",
       "\\item 'end\\_lng'\n",
       "\\item 'member\\_casual'\n",
       "\\end{enumerate*}\n"
      ],
      "text/markdown": [
       "1. 'ride_id'\n",
       "2. 'rideable_type'\n",
       "3. 'started_at'\n",
       "4. 'ended_at'\n",
       "5. 'start_station_name'\n",
       "6. 'start_station_id'\n",
       "7. 'end_station_name'\n",
       "8. 'end_station_id'\n",
       "9. 'start_lat'\n",
       "10. 'start_lng'\n",
       "11. 'end_lat'\n",
       "12. 'end_lng'\n",
       "13. 'member_casual'\n",
       "\n",
       "\n"
      ],
      "text/plain": [
       " [1] \"ride_id\"            \"rideable_type\"      \"started_at\"        \n",
       " [4] \"ended_at\"           \"start_station_name\" \"start_station_id\"  \n",
       " [7] \"end_station_name\"   \"end_station_id\"     \"start_lat\"         \n",
       "[10] \"start_lng\"          \"end_lat\"            \"end_lng\"           \n",
       "[13] \"member_casual\"     "
      ]
     },
     "metadata": {},
     "output_type": "display_data"
    },
    {
     "data": {
      "text/html": [
       "<style>\n",
       ".list-inline {list-style: none; margin:0; padding: 0}\n",
       ".list-inline>li {display: inline-block}\n",
       ".list-inline>li:not(:last-child)::after {content: \"\\00b7\"; padding: 0 .5ex}\n",
       "</style>\n",
       "<ol class=list-inline><li>'ride_id'</li><li>'rideable_type'</li><li>'started_at'</li><li>'ended_at'</li><li>'start_station_name'</li><li>'start_station_id'</li><li>'end_station_name'</li><li>'end_station_id'</li><li>'start_lat'</li><li>'start_lng'</li><li>'end_lat'</li><li>'end_lng'</li><li>'member_casual'</li></ol>\n"
      ],
      "text/latex": [
       "\\begin{enumerate*}\n",
       "\\item 'ride\\_id'\n",
       "\\item 'rideable\\_type'\n",
       "\\item 'started\\_at'\n",
       "\\item 'ended\\_at'\n",
       "\\item 'start\\_station\\_name'\n",
       "\\item 'start\\_station\\_id'\n",
       "\\item 'end\\_station\\_name'\n",
       "\\item 'end\\_station\\_id'\n",
       "\\item 'start\\_lat'\n",
       "\\item 'start\\_lng'\n",
       "\\item 'end\\_lat'\n",
       "\\item 'end\\_lng'\n",
       "\\item 'member\\_casual'\n",
       "\\end{enumerate*}\n"
      ],
      "text/markdown": [
       "1. 'ride_id'\n",
       "2. 'rideable_type'\n",
       "3. 'started_at'\n",
       "4. 'ended_at'\n",
       "5. 'start_station_name'\n",
       "6. 'start_station_id'\n",
       "7. 'end_station_name'\n",
       "8. 'end_station_id'\n",
       "9. 'start_lat'\n",
       "10. 'start_lng'\n",
       "11. 'end_lat'\n",
       "12. 'end_lng'\n",
       "13. 'member_casual'\n",
       "\n",
       "\n"
      ],
      "text/plain": [
       " [1] \"ride_id\"            \"rideable_type\"      \"started_at\"        \n",
       " [4] \"ended_at\"           \"start_station_name\" \"start_station_id\"  \n",
       " [7] \"end_station_name\"   \"end_station_id\"     \"start_lat\"         \n",
       "[10] \"start_lng\"          \"end_lat\"            \"end_lng\"           \n",
       "[13] \"member_casual\"     "
      ]
     },
     "metadata": {},
     "output_type": "display_data"
    },
    {
     "data": {
      "text/html": [
       "<style>\n",
       ".list-inline {list-style: none; margin:0; padding: 0}\n",
       ".list-inline>li {display: inline-block}\n",
       ".list-inline>li:not(:last-child)::after {content: \"\\00b7\"; padding: 0 .5ex}\n",
       "</style>\n",
       "<ol class=list-inline><li>'ride_id'</li><li>'rideable_type'</li><li>'started_at'</li><li>'ended_at'</li><li>'start_station_name'</li><li>'start_station_id'</li><li>'end_station_name'</li><li>'end_station_id'</li><li>'start_lat'</li><li>'start_lng'</li><li>'end_lat'</li><li>'end_lng'</li><li>'member_casual'</li></ol>\n"
      ],
      "text/latex": [
       "\\begin{enumerate*}\n",
       "\\item 'ride\\_id'\n",
       "\\item 'rideable\\_type'\n",
       "\\item 'started\\_at'\n",
       "\\item 'ended\\_at'\n",
       "\\item 'start\\_station\\_name'\n",
       "\\item 'start\\_station\\_id'\n",
       "\\item 'end\\_station\\_name'\n",
       "\\item 'end\\_station\\_id'\n",
       "\\item 'start\\_lat'\n",
       "\\item 'start\\_lng'\n",
       "\\item 'end\\_lat'\n",
       "\\item 'end\\_lng'\n",
       "\\item 'member\\_casual'\n",
       "\\end{enumerate*}\n"
      ],
      "text/markdown": [
       "1. 'ride_id'\n",
       "2. 'rideable_type'\n",
       "3. 'started_at'\n",
       "4. 'ended_at'\n",
       "5. 'start_station_name'\n",
       "6. 'start_station_id'\n",
       "7. 'end_station_name'\n",
       "8. 'end_station_id'\n",
       "9. 'start_lat'\n",
       "10. 'start_lng'\n",
       "11. 'end_lat'\n",
       "12. 'end_lng'\n",
       "13. 'member_casual'\n",
       "\n",
       "\n"
      ],
      "text/plain": [
       " [1] \"ride_id\"            \"rideable_type\"      \"started_at\"        \n",
       " [4] \"ended_at\"           \"start_station_name\" \"start_station_id\"  \n",
       " [7] \"end_station_name\"   \"end_station_id\"     \"start_lat\"         \n",
       "[10] \"start_lng\"          \"end_lat\"            \"end_lng\"           \n",
       "[13] \"member_casual\"     "
      ]
     },
     "metadata": {},
     "output_type": "display_data"
    },
    {
     "data": {
      "text/html": [
       "<style>\n",
       ".list-inline {list-style: none; margin:0; padding: 0}\n",
       ".list-inline>li {display: inline-block}\n",
       ".list-inline>li:not(:last-child)::after {content: \"\\00b7\"; padding: 0 .5ex}\n",
       "</style>\n",
       "<ol class=list-inline><li>'ride_id'</li><li>'rideable_type'</li><li>'started_at'</li><li>'ended_at'</li><li>'start_station_name'</li><li>'start_station_id'</li><li>'end_station_name'</li><li>'end_station_id'</li><li>'start_lat'</li><li>'start_lng'</li><li>'end_lat'</li><li>'end_lng'</li><li>'member_casual'</li></ol>\n"
      ],
      "text/latex": [
       "\\begin{enumerate*}\n",
       "\\item 'ride\\_id'\n",
       "\\item 'rideable\\_type'\n",
       "\\item 'started\\_at'\n",
       "\\item 'ended\\_at'\n",
       "\\item 'start\\_station\\_name'\n",
       "\\item 'start\\_station\\_id'\n",
       "\\item 'end\\_station\\_name'\n",
       "\\item 'end\\_station\\_id'\n",
       "\\item 'start\\_lat'\n",
       "\\item 'start\\_lng'\n",
       "\\item 'end\\_lat'\n",
       "\\item 'end\\_lng'\n",
       "\\item 'member\\_casual'\n",
       "\\end{enumerate*}\n"
      ],
      "text/markdown": [
       "1. 'ride_id'\n",
       "2. 'rideable_type'\n",
       "3. 'started_at'\n",
       "4. 'ended_at'\n",
       "5. 'start_station_name'\n",
       "6. 'start_station_id'\n",
       "7. 'end_station_name'\n",
       "8. 'end_station_id'\n",
       "9. 'start_lat'\n",
       "10. 'start_lng'\n",
       "11. 'end_lat'\n",
       "12. 'end_lng'\n",
       "13. 'member_casual'\n",
       "\n",
       "\n"
      ],
      "text/plain": [
       " [1] \"ride_id\"            \"rideable_type\"      \"started_at\"        \n",
       " [4] \"ended_at\"           \"start_station_name\" \"start_station_id\"  \n",
       " [7] \"end_station_name\"   \"end_station_id\"     \"start_lat\"         \n",
       "[10] \"start_lng\"          \"end_lat\"            \"end_lng\"           \n",
       "[13] \"member_casual\"     "
      ]
     },
     "metadata": {},
     "output_type": "display_data"
    },
    {
     "data": {
      "text/html": [
       "<style>\n",
       ".list-inline {list-style: none; margin:0; padding: 0}\n",
       ".list-inline>li {display: inline-block}\n",
       ".list-inline>li:not(:last-child)::after {content: \"\\00b7\"; padding: 0 .5ex}\n",
       "</style>\n",
       "<ol class=list-inline><li>'ride_id'</li><li>'rideable_type'</li><li>'started_at'</li><li>'ended_at'</li><li>'start_station_name'</li><li>'start_station_id'</li><li>'end_station_name'</li><li>'end_station_id'</li><li>'start_lat'</li><li>'start_lng'</li><li>'end_lat'</li><li>'end_lng'</li><li>'member_casual'</li></ol>\n"
      ],
      "text/latex": [
       "\\begin{enumerate*}\n",
       "\\item 'ride\\_id'\n",
       "\\item 'rideable\\_type'\n",
       "\\item 'started\\_at'\n",
       "\\item 'ended\\_at'\n",
       "\\item 'start\\_station\\_name'\n",
       "\\item 'start\\_station\\_id'\n",
       "\\item 'end\\_station\\_name'\n",
       "\\item 'end\\_station\\_id'\n",
       "\\item 'start\\_lat'\n",
       "\\item 'start\\_lng'\n",
       "\\item 'end\\_lat'\n",
       "\\item 'end\\_lng'\n",
       "\\item 'member\\_casual'\n",
       "\\end{enumerate*}\n"
      ],
      "text/markdown": [
       "1. 'ride_id'\n",
       "2. 'rideable_type'\n",
       "3. 'started_at'\n",
       "4. 'ended_at'\n",
       "5. 'start_station_name'\n",
       "6. 'start_station_id'\n",
       "7. 'end_station_name'\n",
       "8. 'end_station_id'\n",
       "9. 'start_lat'\n",
       "10. 'start_lng'\n",
       "11. 'end_lat'\n",
       "12. 'end_lng'\n",
       "13. 'member_casual'\n",
       "\n",
       "\n"
      ],
      "text/plain": [
       " [1] \"ride_id\"            \"rideable_type\"      \"started_at\"        \n",
       " [4] \"ended_at\"           \"start_station_name\" \"start_station_id\"  \n",
       " [7] \"end_station_name\"   \"end_station_id\"     \"start_lat\"         \n",
       "[10] \"start_lng\"          \"end_lat\"            \"end_lng\"           \n",
       "[13] \"member_casual\"     "
      ]
     },
     "metadata": {},
     "output_type": "display_data"
    },
    {
     "data": {
      "text/html": [
       "<style>\n",
       ".list-inline {list-style: none; margin:0; padding: 0}\n",
       ".list-inline>li {display: inline-block}\n",
       ".list-inline>li:not(:last-child)::after {content: \"\\00b7\"; padding: 0 .5ex}\n",
       "</style>\n",
       "<ol class=list-inline><li>'ride_id'</li><li>'rideable_type'</li><li>'started_at'</li><li>'ended_at'</li><li>'start_station_name'</li><li>'start_station_id'</li><li>'end_station_name'</li><li>'end_station_id'</li><li>'start_lat'</li><li>'start_lng'</li><li>'end_lat'</li><li>'end_lng'</li><li>'member_casual'</li></ol>\n"
      ],
      "text/latex": [
       "\\begin{enumerate*}\n",
       "\\item 'ride\\_id'\n",
       "\\item 'rideable\\_type'\n",
       "\\item 'started\\_at'\n",
       "\\item 'ended\\_at'\n",
       "\\item 'start\\_station\\_name'\n",
       "\\item 'start\\_station\\_id'\n",
       "\\item 'end\\_station\\_name'\n",
       "\\item 'end\\_station\\_id'\n",
       "\\item 'start\\_lat'\n",
       "\\item 'start\\_lng'\n",
       "\\item 'end\\_lat'\n",
       "\\item 'end\\_lng'\n",
       "\\item 'member\\_casual'\n",
       "\\end{enumerate*}\n"
      ],
      "text/markdown": [
       "1. 'ride_id'\n",
       "2. 'rideable_type'\n",
       "3. 'started_at'\n",
       "4. 'ended_at'\n",
       "5. 'start_station_name'\n",
       "6. 'start_station_id'\n",
       "7. 'end_station_name'\n",
       "8. 'end_station_id'\n",
       "9. 'start_lat'\n",
       "10. 'start_lng'\n",
       "11. 'end_lat'\n",
       "12. 'end_lng'\n",
       "13. 'member_casual'\n",
       "\n",
       "\n"
      ],
      "text/plain": [
       " [1] \"ride_id\"            \"rideable_type\"      \"started_at\"        \n",
       " [4] \"ended_at\"           \"start_station_name\" \"start_station_id\"  \n",
       " [7] \"end_station_name\"   \"end_station_id\"     \"start_lat\"         \n",
       "[10] \"start_lng\"          \"end_lat\"            \"end_lng\"           \n",
       "[13] \"member_casual\"     "
      ]
     },
     "metadata": {},
     "output_type": "display_data"
    },
    {
     "data": {
      "text/html": [
       "<style>\n",
       ".list-inline {list-style: none; margin:0; padding: 0}\n",
       ".list-inline>li {display: inline-block}\n",
       ".list-inline>li:not(:last-child)::after {content: \"\\00b7\"; padding: 0 .5ex}\n",
       "</style>\n",
       "<ol class=list-inline><li>'ride_id'</li><li>'rideable_type'</li><li>'started_at'</li><li>'ended_at'</li><li>'start_station_name'</li><li>'start_station_id'</li><li>'end_station_name'</li><li>'end_station_id'</li><li>'start_lat'</li><li>'start_lng'</li><li>'end_lat'</li><li>'end_lng'</li><li>'member_casual'</li></ol>\n"
      ],
      "text/latex": [
       "\\begin{enumerate*}\n",
       "\\item 'ride\\_id'\n",
       "\\item 'rideable\\_type'\n",
       "\\item 'started\\_at'\n",
       "\\item 'ended\\_at'\n",
       "\\item 'start\\_station\\_name'\n",
       "\\item 'start\\_station\\_id'\n",
       "\\item 'end\\_station\\_name'\n",
       "\\item 'end\\_station\\_id'\n",
       "\\item 'start\\_lat'\n",
       "\\item 'start\\_lng'\n",
       "\\item 'end\\_lat'\n",
       "\\item 'end\\_lng'\n",
       "\\item 'member\\_casual'\n",
       "\\end{enumerate*}\n"
      ],
      "text/markdown": [
       "1. 'ride_id'\n",
       "2. 'rideable_type'\n",
       "3. 'started_at'\n",
       "4. 'ended_at'\n",
       "5. 'start_station_name'\n",
       "6. 'start_station_id'\n",
       "7. 'end_station_name'\n",
       "8. 'end_station_id'\n",
       "9. 'start_lat'\n",
       "10. 'start_lng'\n",
       "11. 'end_lat'\n",
       "12. 'end_lng'\n",
       "13. 'member_casual'\n",
       "\n",
       "\n"
      ],
      "text/plain": [
       " [1] \"ride_id\"            \"rideable_type\"      \"started_at\"        \n",
       " [4] \"ended_at\"           \"start_station_name\" \"start_station_id\"  \n",
       " [7] \"end_station_name\"   \"end_station_id\"     \"start_lat\"         \n",
       "[10] \"start_lng\"          \"end_lat\"            \"end_lng\"           \n",
       "[13] \"member_casual\"     "
      ]
     },
     "metadata": {},
     "output_type": "display_data"
    },
    {
     "data": {
      "text/html": [
       "<style>\n",
       ".list-inline {list-style: none; margin:0; padding: 0}\n",
       ".list-inline>li {display: inline-block}\n",
       ".list-inline>li:not(:last-child)::after {content: \"\\00b7\"; padding: 0 .5ex}\n",
       "</style>\n",
       "<ol class=list-inline><li>'ride_id'</li><li>'rideable_type'</li><li>'started_at'</li><li>'ended_at'</li><li>'start_station_name'</li><li>'start_station_id'</li><li>'end_station_name'</li><li>'end_station_id'</li><li>'start_lat'</li><li>'start_lng'</li><li>'end_lat'</li><li>'end_lng'</li><li>'member_casual'</li></ol>\n"
      ],
      "text/latex": [
       "\\begin{enumerate*}\n",
       "\\item 'ride\\_id'\n",
       "\\item 'rideable\\_type'\n",
       "\\item 'started\\_at'\n",
       "\\item 'ended\\_at'\n",
       "\\item 'start\\_station\\_name'\n",
       "\\item 'start\\_station\\_id'\n",
       "\\item 'end\\_station\\_name'\n",
       "\\item 'end\\_station\\_id'\n",
       "\\item 'start\\_lat'\n",
       "\\item 'start\\_lng'\n",
       "\\item 'end\\_lat'\n",
       "\\item 'end\\_lng'\n",
       "\\item 'member\\_casual'\n",
       "\\end{enumerate*}\n"
      ],
      "text/markdown": [
       "1. 'ride_id'\n",
       "2. 'rideable_type'\n",
       "3. 'started_at'\n",
       "4. 'ended_at'\n",
       "5. 'start_station_name'\n",
       "6. 'start_station_id'\n",
       "7. 'end_station_name'\n",
       "8. 'end_station_id'\n",
       "9. 'start_lat'\n",
       "10. 'start_lng'\n",
       "11. 'end_lat'\n",
       "12. 'end_lng'\n",
       "13. 'member_casual'\n",
       "\n",
       "\n"
      ],
      "text/plain": [
       " [1] \"ride_id\"            \"rideable_type\"      \"started_at\"        \n",
       " [4] \"ended_at\"           \"start_station_name\" \"start_station_id\"  \n",
       " [7] \"end_station_name\"   \"end_station_id\"     \"start_lat\"         \n",
       "[10] \"start_lng\"          \"end_lat\"            \"end_lng\"           \n",
       "[13] \"member_casual\"     "
      ]
     },
     "metadata": {},
     "output_type": "display_data"
    },
    {
     "data": {
      "text/html": [
       "<style>\n",
       ".list-inline {list-style: none; margin:0; padding: 0}\n",
       ".list-inline>li {display: inline-block}\n",
       ".list-inline>li:not(:last-child)::after {content: \"\\00b7\"; padding: 0 .5ex}\n",
       "</style>\n",
       "<ol class=list-inline><li>'ride_id'</li><li>'rideable_type'</li><li>'started_at'</li><li>'ended_at'</li><li>'start_station_name'</li><li>'start_station_id'</li><li>'end_station_name'</li><li>'end_station_id'</li><li>'start_lat'</li><li>'start_lng'</li><li>'end_lat'</li><li>'end_lng'</li><li>'member_casual'</li></ol>\n"
      ],
      "text/latex": [
       "\\begin{enumerate*}\n",
       "\\item 'ride\\_id'\n",
       "\\item 'rideable\\_type'\n",
       "\\item 'started\\_at'\n",
       "\\item 'ended\\_at'\n",
       "\\item 'start\\_station\\_name'\n",
       "\\item 'start\\_station\\_id'\n",
       "\\item 'end\\_station\\_name'\n",
       "\\item 'end\\_station\\_id'\n",
       "\\item 'start\\_lat'\n",
       "\\item 'start\\_lng'\n",
       "\\item 'end\\_lat'\n",
       "\\item 'end\\_lng'\n",
       "\\item 'member\\_casual'\n",
       "\\end{enumerate*}\n"
      ],
      "text/markdown": [
       "1. 'ride_id'\n",
       "2. 'rideable_type'\n",
       "3. 'started_at'\n",
       "4. 'ended_at'\n",
       "5. 'start_station_name'\n",
       "6. 'start_station_id'\n",
       "7. 'end_station_name'\n",
       "8. 'end_station_id'\n",
       "9. 'start_lat'\n",
       "10. 'start_lng'\n",
       "11. 'end_lat'\n",
       "12. 'end_lng'\n",
       "13. 'member_casual'\n",
       "\n",
       "\n"
      ],
      "text/plain": [
       " [1] \"ride_id\"            \"rideable_type\"      \"started_at\"        \n",
       " [4] \"ended_at\"           \"start_station_name\" \"start_station_id\"  \n",
       " [7] \"end_station_name\"   \"end_station_id\"     \"start_lat\"         \n",
       "[10] \"start_lng\"          \"end_lat\"            \"end_lng\"           \n",
       "[13] \"member_casual\"     "
      ]
     },
     "metadata": {},
     "output_type": "display_data"
    },
    {
     "data": {
      "text/html": [
       "<style>\n",
       ".list-inline {list-style: none; margin:0; padding: 0}\n",
       ".list-inline>li {display: inline-block}\n",
       ".list-inline>li:not(:last-child)::after {content: \"\\00b7\"; padding: 0 .5ex}\n",
       "</style>\n",
       "<ol class=list-inline><li>'ride_id'</li><li>'rideable_type'</li><li>'started_at'</li><li>'ended_at'</li><li>'start_station_name'</li><li>'start_station_id'</li><li>'end_station_name'</li><li>'end_station_id'</li><li>'start_lat'</li><li>'start_lng'</li><li>'end_lat'</li><li>'end_lng'</li><li>'member_casual'</li></ol>\n"
      ],
      "text/latex": [
       "\\begin{enumerate*}\n",
       "\\item 'ride\\_id'\n",
       "\\item 'rideable\\_type'\n",
       "\\item 'started\\_at'\n",
       "\\item 'ended\\_at'\n",
       "\\item 'start\\_station\\_name'\n",
       "\\item 'start\\_station\\_id'\n",
       "\\item 'end\\_station\\_name'\n",
       "\\item 'end\\_station\\_id'\n",
       "\\item 'start\\_lat'\n",
       "\\item 'start\\_lng'\n",
       "\\item 'end\\_lat'\n",
       "\\item 'end\\_lng'\n",
       "\\item 'member\\_casual'\n",
       "\\end{enumerate*}\n"
      ],
      "text/markdown": [
       "1. 'ride_id'\n",
       "2. 'rideable_type'\n",
       "3. 'started_at'\n",
       "4. 'ended_at'\n",
       "5. 'start_station_name'\n",
       "6. 'start_station_id'\n",
       "7. 'end_station_name'\n",
       "8. 'end_station_id'\n",
       "9. 'start_lat'\n",
       "10. 'start_lng'\n",
       "11. 'end_lat'\n",
       "12. 'end_lng'\n",
       "13. 'member_casual'\n",
       "\n",
       "\n"
      ],
      "text/plain": [
       " [1] \"ride_id\"            \"rideable_type\"      \"started_at\"        \n",
       " [4] \"ended_at\"           \"start_station_name\" \"start_station_id\"  \n",
       " [7] \"end_station_name\"   \"end_station_id\"     \"start_lat\"         \n",
       "[10] \"start_lng\"          \"end_lat\"            \"end_lng\"           \n",
       "[13] \"member_casual\"     "
      ]
     },
     "metadata": {},
     "output_type": "display_data"
    }
   ],
   "source": [
    "colnames(apr20)\n",
    "colnames(may20)\n",
    "colnames(jun20)\n",
    "colnames(jul20)\n",
    "colnames(aug20)\n",
    "colnames(sep20)\n",
    "colnames(oct20)\n",
    "colnames(nov20)\n",
    "colnames(dec20)\n",
    "colnames(jan21)\n",
    "colnames(feb21)\n",
    "colnames(mar21)"
   ]
  },
  {
   "cell_type": "markdown",
   "id": "2c316802",
   "metadata": {
    "papermill": {
     "duration": 0.047571,
     "end_time": "2021-06-03T09:21:32.063839",
     "exception": false,
     "start_time": "2021-06-03T09:21:32.016268",
     "status": "completed"
    },
    "tags": []
   },
   "source": [
    "### Data transformation and cleaning\n",
    "\n",
    "start_station_id and end_station_id colummns have inconsistent data type in dec20, jan21, feb21 and mar21 datasets. They need to be converted from char to double. We will use mutate() function to change the data type of these columns."
   ]
  },
  {
   "cell_type": "code",
   "execution_count": 4,
   "id": "542e4d1e",
   "metadata": {
    "execution": {
     "iopub.execute_input": "2021-06-03T09:21:32.167237Z",
     "iopub.status.busy": "2021-06-03T09:21:32.165416Z",
     "iopub.status.idle": "2021-06-03T09:21:32.430672Z",
     "shell.execute_reply": "2021-06-03T09:21:32.429204Z"
    },
    "jupyter": {
     "source_hidden": true
    },
    "papermill": {
     "duration": 0.320034,
     "end_time": "2021-06-03T09:21:32.430873",
     "exception": false,
     "start_time": "2021-06-03T09:21:32.110839",
     "status": "completed"
    },
    "tags": [],
    "vscode": {
     "languageId": "r"
    }
   },
   "outputs": [
    {
     "name": "stderr",
     "output_type": "stream",
     "text": [
      "Warning message in mask$eval_all_mutate(quo):\n",
      "“NAs introduced by coercion”\n",
      "Warning message in mask$eval_all_mutate(quo):\n",
      "“NAs introduced by coercion”\n",
      "Warning message in mask$eval_all_mutate(quo):\n",
      "“NAs introduced by coercion”\n",
      "Warning message in mask$eval_all_mutate(quo):\n",
      "“NAs introduced by coercion”\n",
      "Warning message in mask$eval_all_mutate(quo):\n",
      "“NAs introduced by coercion”\n",
      "Warning message in mask$eval_all_mutate(quo):\n",
      "“NAs introduced by coercion”\n",
      "Warning message in mask$eval_all_mutate(quo):\n",
      "“NAs introduced by coercion”\n",
      "Warning message in mask$eval_all_mutate(quo):\n",
      "“NAs introduced by coercion”\n"
     ]
    }
   ],
   "source": [
    "dec20 <-  mutate(dec20, start_station_id = as.double(start_station_id),\n",
    "                 end_station_id = as.double(end_station_id))\n",
    "jan21 <-  mutate(jan21, start_station_id = as.double(start_station_id),\n",
    "                 end_station_id = as.double(end_station_id))\n",
    "feb21 <-  mutate(feb21, start_station_id = as.double(start_station_id),\n",
    "                 end_station_id = as.double(end_station_id))\n",
    "mar21 <-  mutate(mar21, start_station_id = as.double(start_station_id),\n",
    "                 end_station_id = as.double(end_station_id))\n"
   ]
  },
  {
   "cell_type": "markdown",
   "id": "fd982b42",
   "metadata": {
    "papermill": {
     "duration": 0.048894,
     "end_time": "2021-06-03T09:21:32.528866",
     "exception": false,
     "start_time": "2021-06-03T09:21:32.479972",
     "status": "completed"
    },
    "tags": []
   },
   "source": [
    "Let's check if the change took effect."
   ]
  },
  {
   "cell_type": "code",
   "execution_count": 5,
   "id": "57b6be93",
   "metadata": {
    "execution": {
     "iopub.execute_input": "2021-06-03T09:21:32.635183Z",
     "iopub.status.busy": "2021-06-03T09:21:32.633227Z",
     "iopub.status.idle": "2021-06-03T09:21:33.161184Z",
     "shell.execute_reply": "2021-06-03T09:21:33.159835Z"
    },
    "papermill": {
     "duration": 0.583453,
     "end_time": "2021-06-03T09:21:33.161346",
     "exception": false,
     "start_time": "2021-06-03T09:21:32.577893",
     "status": "completed"
    },
    "tags": [],
    "vscode": {
     "languageId": "r"
    }
   },
   "outputs": [
    {
     "data": {
      "text/html": [
       "TRUE"
      ],
      "text/latex": [
       "TRUE"
      ],
      "text/markdown": [
       "TRUE"
      ],
      "text/plain": [
       "[1] TRUE"
      ]
     },
     "metadata": {},
     "output_type": "display_data"
    },
    {
     "data": {
      "text/html": [
       "TRUE"
      ],
      "text/latex": [
       "TRUE"
      ],
      "text/markdown": [
       "TRUE"
      ],
      "text/plain": [
       "[1] TRUE"
      ]
     },
     "metadata": {},
     "output_type": "display_data"
    },
    {
     "data": {
      "text/html": [
       "TRUE"
      ],
      "text/latex": [
       "TRUE"
      ],
      "text/markdown": [
       "TRUE"
      ],
      "text/plain": [
       "[1] TRUE"
      ]
     },
     "metadata": {},
     "output_type": "display_data"
    },
    {
     "data": {
      "text/html": [
       "TRUE"
      ],
      "text/latex": [
       "TRUE"
      ],
      "text/markdown": [
       "TRUE"
      ],
      "text/plain": [
       "[1] TRUE"
      ]
     },
     "metadata": {},
     "output_type": "display_data"
    },
    {
     "data": {
      "text/html": [
       "TRUE"
      ],
      "text/latex": [
       "TRUE"
      ],
      "text/markdown": [
       "TRUE"
      ],
      "text/plain": [
       "[1] TRUE"
      ]
     },
     "metadata": {},
     "output_type": "display_data"
    },
    {
     "data": {
      "text/html": [
       "TRUE"
      ],
      "text/latex": [
       "TRUE"
      ],
      "text/markdown": [
       "TRUE"
      ],
      "text/plain": [
       "[1] TRUE"
      ]
     },
     "metadata": {},
     "output_type": "display_data"
    },
    {
     "data": {
      "text/html": [
       "TRUE"
      ],
      "text/latex": [
       "TRUE"
      ],
      "text/markdown": [
       "TRUE"
      ],
      "text/plain": [
       "[1] TRUE"
      ]
     },
     "metadata": {},
     "output_type": "display_data"
    },
    {
     "data": {
      "text/html": [
       "TRUE"
      ],
      "text/latex": [
       "TRUE"
      ],
      "text/markdown": [
       "TRUE"
      ],
      "text/plain": [
       "[1] TRUE"
      ]
     },
     "metadata": {},
     "output_type": "display_data"
    }
   ],
   "source": [
    "is.double(dec20$start_station_id)\n",
    "is.double(dec20$end_station_id)\n",
    "is.double(jan21$start_station_id)\n",
    "is.double(jan21$end_station_id)\n",
    "is.double(feb21$start_station_id)\n",
    "is.double(feb21$end_station_id)\n",
    "is.double(mar21$start_station_id)\n",
    "is.double(mar21$end_station_id)"
   ]
  },
  {
   "cell_type": "markdown",
   "id": "1ae56438",
   "metadata": {
    "papermill": {
     "duration": 0.052954,
     "end_time": "2021-06-03T09:21:33.267816",
     "exception": false,
     "start_time": "2021-06-03T09:21:33.214862",
     "status": "completed"
    },
    "tags": []
   },
   "source": [
    "#### Combine all the datasets into one single dataframe"
   ]
  },
  {
   "cell_type": "code",
   "execution_count": 6,
   "id": "c29bf26a",
   "metadata": {
    "execution": {
     "iopub.execute_input": "2021-06-03T09:21:33.382511Z",
     "iopub.status.busy": "2021-06-03T09:21:33.380552Z",
     "iopub.status.idle": "2021-06-03T09:21:37.602939Z",
     "shell.execute_reply": "2021-06-03T09:21:37.601162Z"
    },
    "papermill": {
     "duration": 4.281127,
     "end_time": "2021-06-03T09:21:37.603198",
     "exception": false,
     "start_time": "2021-06-03T09:21:33.322071",
     "status": "completed"
    },
    "tags": [],
    "vscode": {
     "languageId": "r"
    }
   },
   "outputs": [
    {
     "name": "stdout",
     "output_type": "stream",
     "text": [
      "spec_tbl_df[,13] [3,489,748 × 13] (S3: spec_tbl_df/tbl_df/tbl/data.frame)\n",
      " $ ride_id           : chr [1:3489748] \"A847FADBBC638E45\" \"5405B80E996FF60D\" \"5DD24A79A4E006F4\" \"2A59BBDF5CDBA725\" ...\n",
      " $ rideable_type     : chr [1:3489748] \"docked_bike\" \"docked_bike\" \"docked_bike\" \"docked_bike\" ...\n",
      " $ started_at        : POSIXct[1:3489748], format: \"2020-04-26 17:45:14\" \"2020-04-17 17:08:54\" ...\n",
      " $ ended_at          : POSIXct[1:3489748], format: \"2020-04-26 18:12:03\" \"2020-04-17 17:17:03\" ...\n",
      " $ start_station_name: chr [1:3489748] \"Eckhart Park\" \"Drake Ave & Fullerton Ave\" \"McClurg Ct & Erie St\" \"California Ave & Division St\" ...\n",
      " $ start_station_id  : num [1:3489748] 86 503 142 216 125 173 35 434 627 377 ...\n",
      " $ end_station_name  : chr [1:3489748] \"Lincoln Ave & Diversey Pkwy\" \"Kosciuszko Park\" \"Indiana Ave & Roosevelt Rd\" \"Wood St & Augusta Blvd\" ...\n",
      " $ end_station_id    : num [1:3489748] 152 499 255 657 323 35 635 382 359 508 ...\n",
      " $ start_lat         : num [1:3489748] 41.9 41.9 41.9 41.9 41.9 ...\n",
      " $ start_lng         : num [1:3489748] -87.7 -87.7 -87.6 -87.7 -87.6 ...\n",
      " $ end_lat           : num [1:3489748] 41.9 41.9 41.9 41.9 42 ...\n",
      " $ end_lng           : num [1:3489748] -87.7 -87.7 -87.6 -87.7 -87.7 ...\n",
      " $ member_casual     : chr [1:3489748] \"member\" \"member\" \"member\" \"member\" ...\n",
      " - attr(*, \"spec\")=\n",
      "  .. cols(\n",
      "  ..   ride_id = \u001b[31mcol_character()\u001b[39m,\n",
      "  ..   rideable_type = \u001b[31mcol_character()\u001b[39m,\n",
      "  ..   started_at = \u001b[34mcol_datetime(format = \"\")\u001b[39m,\n",
      "  ..   ended_at = \u001b[34mcol_datetime(format = \"\")\u001b[39m,\n",
      "  ..   start_station_name = \u001b[31mcol_character()\u001b[39m,\n",
      "  ..   start_station_id = \u001b[32mcol_double()\u001b[39m,\n",
      "  ..   end_station_name = \u001b[31mcol_character()\u001b[39m,\n",
      "  ..   end_station_id = \u001b[32mcol_double()\u001b[39m,\n",
      "  ..   start_lat = \u001b[32mcol_double()\u001b[39m,\n",
      "  ..   start_lng = \u001b[32mcol_double()\u001b[39m,\n",
      "  ..   end_lat = \u001b[32mcol_double()\u001b[39m,\n",
      "  ..   end_lng = \u001b[32mcol_double()\u001b[39m,\n",
      "  ..   member_casual = \u001b[31mcol_character()\u001b[39m\n",
      "  .. )\n"
     ]
    }
   ],
   "source": [
    "# combining all datasets into one dataframe\n",
    "all_trips <- bind_rows(apr20, may20, jun20, jul20, aug20, sep20, oct20, nov20, dec20, jan21, feb21, mar21)\n",
    "\n",
    "# check structure of the new dataframe\n",
    "str(all_trips)"
   ]
  },
  {
   "cell_type": "markdown",
   "id": "16c4f602",
   "metadata": {
    "papermill": {
     "duration": 0.053845,
     "end_time": "2021-06-03T09:21:37.712855",
     "exception": false,
     "start_time": "2021-06-03T09:21:37.659010",
     "status": "completed"
    },
    "tags": []
   },
   "source": [
    "All looks good!\n",
    "\n",
    "#### Remove columns not required or beyond the scope of project"
   ]
  },
  {
   "cell_type": "code",
   "execution_count": 7,
   "id": "079ca0a4",
   "metadata": {
    "execution": {
     "iopub.execute_input": "2021-06-03T09:21:37.828202Z",
     "iopub.status.busy": "2021-06-03T09:21:37.826211Z",
     "iopub.status.idle": "2021-06-03T09:21:37.868809Z",
     "shell.execute_reply": "2021-06-03T09:21:37.867523Z"
    },
    "papermill": {
     "duration": 0.102106,
     "end_time": "2021-06-03T09:21:37.869023",
     "exception": false,
     "start_time": "2021-06-03T09:21:37.766917",
     "status": "completed"
    },
    "tags": [],
    "vscode": {
     "languageId": "r"
    }
   },
   "outputs": [
    {
     "name": "stdout",
     "output_type": "stream",
     "text": [
      "Rows: 3,489,748\n",
      "Columns: 9\n",
      "$ ride_id            \u001b[3m\u001b[90m<chr>\u001b[39m\u001b[23m \"A847FADBBC638E45\", \"5405B80E996FF60D\", \"5DD24A79A4…\n",
      "$ rideable_type      \u001b[3m\u001b[90m<chr>\u001b[39m\u001b[23m \"docked_bike\", \"docked_bike\", \"docked_bike\", \"docke…\n",
      "$ started_at         \u001b[3m\u001b[90m<dttm>\u001b[39m\u001b[23m 2020-04-26 17:45:14, 2020-04-17 17:08:54, 2020-04-…\n",
      "$ ended_at           \u001b[3m\u001b[90m<dttm>\u001b[39m\u001b[23m 2020-04-26 18:12:03, 2020-04-17 17:17:03, 2020-04-…\n",
      "$ start_station_name \u001b[3m\u001b[90m<chr>\u001b[39m\u001b[23m \"Eckhart Park\", \"Drake Ave & Fullerton Ave\", \"McClu…\n",
      "$ start_station_id   \u001b[3m\u001b[90m<dbl>\u001b[39m\u001b[23m 86, 503, 142, 216, 125, 173, 35, 434, 627, 377, 508…\n",
      "$ end_station_name   \u001b[3m\u001b[90m<chr>\u001b[39m\u001b[23m \"Lincoln Ave & Diversey Pkwy\", \"Kosciuszko Park\", \"…\n",
      "$ end_station_id     \u001b[3m\u001b[90m<dbl>\u001b[39m\u001b[23m 152, 499, 255, 657, 323, 35, 635, 382, 359, 508, 37…\n",
      "$ member_casual      \u001b[3m\u001b[90m<chr>\u001b[39m\u001b[23m \"member\", \"member\", \"member\", \"member\", \"casual\", \"…\n"
     ]
    }
   ],
   "source": [
    "all_trips <- all_trips %>%\n",
    "    select(-c(start_lat:end_lng))\n",
    "glimpse(all_trips)"
   ]
  },
  {
   "cell_type": "markdown",
   "id": "d8f31648",
   "metadata": {
    "papermill": {
     "duration": 0.056093,
     "end_time": "2021-06-03T09:21:37.981162",
     "exception": false,
     "start_time": "2021-06-03T09:21:37.925069",
     "status": "completed"
    },
    "tags": []
   },
   "source": [
    "#### Rename columns for better readability"
   ]
  },
  {
   "cell_type": "code",
   "execution_count": 8,
   "id": "b6abfeef",
   "metadata": {
    "execution": {
     "iopub.execute_input": "2021-06-03T09:21:38.101082Z",
     "iopub.status.busy": "2021-06-03T09:21:38.099800Z",
     "iopub.status.idle": "2021-06-03T09:21:38.129272Z",
     "shell.execute_reply": "2021-06-03T09:21:38.127459Z"
    },
    "papermill": {
     "duration": 0.091891,
     "end_time": "2021-06-03T09:21:38.129438",
     "exception": false,
     "start_time": "2021-06-03T09:21:38.037547",
     "status": "completed"
    },
    "tags": [],
    "vscode": {
     "languageId": "r"
    }
   },
   "outputs": [
    {
     "name": "stdout",
     "output_type": "stream",
     "text": [
      "Rows: 3,489,748\n",
      "Columns: 9\n",
      "$ ride_id            \u001b[3m\u001b[90m<chr>\u001b[39m\u001b[23m \"A847FADBBC638E45\", \"5405B80E996FF60D\", \"5DD24A79A4…\n",
      "$ ride_type          \u001b[3m\u001b[90m<chr>\u001b[39m\u001b[23m \"docked_bike\", \"docked_bike\", \"docked_bike\", \"docke…\n",
      "$ start_time         \u001b[3m\u001b[90m<dttm>\u001b[39m\u001b[23m 2020-04-26 17:45:14, 2020-04-17 17:08:54, 2020-04-…\n",
      "$ end_time           \u001b[3m\u001b[90m<dttm>\u001b[39m\u001b[23m 2020-04-26 18:12:03, 2020-04-17 17:17:03, 2020-04-…\n",
      "$ start_station_name \u001b[3m\u001b[90m<chr>\u001b[39m\u001b[23m \"Eckhart Park\", \"Drake Ave & Fullerton Ave\", \"McClu…\n",
      "$ start_station_id   \u001b[3m\u001b[90m<dbl>\u001b[39m\u001b[23m 86, 503, 142, 216, 125, 173, 35, 434, 627, 377, 508…\n",
      "$ end_station_name   \u001b[3m\u001b[90m<chr>\u001b[39m\u001b[23m \"Lincoln Ave & Diversey Pkwy\", \"Kosciuszko Park\", \"…\n",
      "$ end_station_id     \u001b[3m\u001b[90m<dbl>\u001b[39m\u001b[23m 152, 499, 255, 657, 323, 35, 635, 382, 359, 508, 37…\n",
      "$ customer_type      \u001b[3m\u001b[90m<chr>\u001b[39m\u001b[23m \"member\", \"member\", \"member\", \"member\", \"casual\", \"…\n"
     ]
    }
   ],
   "source": [
    "all_trips <- all_trips %>%\n",
    "    rename(ride_type = rideable_type, \n",
    "           start_time = started_at,\n",
    "           end_time = ended_at,\n",
    "           customer_type = member_casual)\n",
    "glimpse(all_trips)"
   ]
  },
  {
   "cell_type": "markdown",
   "id": "eb7f556b",
   "metadata": {
    "papermill": {
     "duration": 0.055938,
     "end_time": "2021-06-03T09:21:38.241862",
     "exception": false,
     "start_time": "2021-06-03T09:21:38.185924",
     "status": "completed"
    },
    "tags": []
   },
   "source": [
    "#### Add new columns that can be used for aggregate functions "
   ]
  },
  {
   "cell_type": "code",
   "execution_count": 9,
   "id": "24412d1c",
   "metadata": {
    "execution": {
     "iopub.execute_input": "2021-06-03T09:21:38.360136Z",
     "iopub.status.busy": "2021-06-03T09:21:38.358667Z",
     "iopub.status.idle": "2021-06-03T09:22:17.192052Z",
     "shell.execute_reply": "2021-06-03T09:22:17.192582Z"
    },
    "papermill": {
     "duration": 38.895124,
     "end_time": "2021-06-03T09:22:17.192800",
     "exception": false,
     "start_time": "2021-06-03T09:21:38.297676",
     "status": "completed"
    },
    "tags": [],
    "vscode": {
     "languageId": "r"
    }
   },
   "outputs": [
    {
     "name": "stdout",
     "output_type": "stream",
     "text": [
      "Rows: 3,489,748\n",
      "Columns: 13\n",
      "$ ride_id            \u001b[3m\u001b[90m<chr>\u001b[39m\u001b[23m \"A847FADBBC638E45\", \"5405B80E996FF60D\", \"5DD24A79A4…\n",
      "$ ride_type          \u001b[3m\u001b[90m<chr>\u001b[39m\u001b[23m \"docked_bike\", \"docked_bike\", \"docked_bike\", \"docke…\n",
      "$ start_time         \u001b[3m\u001b[90m<dttm>\u001b[39m\u001b[23m 2020-04-26 17:45:14, 2020-04-17 17:08:54, 2020-04-…\n",
      "$ end_time           \u001b[3m\u001b[90m<dttm>\u001b[39m\u001b[23m 2020-04-26 18:12:03, 2020-04-17 17:17:03, 2020-04-…\n",
      "$ start_station_name \u001b[3m\u001b[90m<chr>\u001b[39m\u001b[23m \"Eckhart Park\", \"Drake Ave & Fullerton Ave\", \"McClu…\n",
      "$ start_station_id   \u001b[3m\u001b[90m<dbl>\u001b[39m\u001b[23m 86, 503, 142, 216, 125, 173, 35, 434, 627, 377, 508…\n",
      "$ end_station_name   \u001b[3m\u001b[90m<chr>\u001b[39m\u001b[23m \"Lincoln Ave & Diversey Pkwy\", \"Kosciuszko Park\", \"…\n",
      "$ end_station_id     \u001b[3m\u001b[90m<dbl>\u001b[39m\u001b[23m 152, 499, 255, 657, 323, 35, 635, 382, 359, 508, 37…\n",
      "$ customer_type      \u001b[3m\u001b[90m<chr>\u001b[39m\u001b[23m \"member\", \"member\", \"member\", \"member\", \"casual\", \"…\n",
      "$ day_of_the_week    \u001b[3m\u001b[90m<chr>\u001b[39m\u001b[23m \"Sun\", \"Fri\", \"Wed\", \"Tue\", \"Sat\", \"Thu\", \"Thu\", \"T…\n",
      "$ month              \u001b[3m\u001b[90m<chr>\u001b[39m\u001b[23m \"Apr_20\", \"Apr_20\", \"Apr_20\", \"Apr_20\", \"Apr_20\", \"…\n",
      "$ time               \u001b[3m\u001b[90m<dttm>\u001b[39m\u001b[23m 2021-06-03 17:45:00, 2021-06-03 17:08:00, 2021-06-…\n",
      "$ trip_duration      \u001b[3m\u001b[90m<dbl>\u001b[39m\u001b[23m 26.816667, 8.150000, 14.383333, 12.200000, 52.91666…\n"
     ]
    }
   ],
   "source": [
    "#column for day of the week the trip started\n",
    "all_trips$day_of_the_week <- format(as.Date(all_trips$start_time),'%a')\n",
    "\n",
    "#column for month when the trip started\n",
    "all_trips$month <- format(as.Date(all_trips$start_time),'%b_%y')\n",
    "\n",
    "#column for time of the day when the trip started\n",
    "#Time element needs to be extracted from start_time. However, as the times must be in POSIXct\n",
    "#(only times of class POSIXct are supported in ggplot2), a two-step conversion is needed. \n",
    "#First the time is converted to a character vector, effectively stripping all the date information. \n",
    "#The time is then converted back to POSIXct with today’s date – the date is of no interest to us,\n",
    "#only the hours-minutes-seconds are.\n",
    "all_trips$time <- format(all_trips$start_time, format = \"%H:%M\")\n",
    "all_trips$time <- as.POSIXct(all_trips$time, format = \"%H:%M\")\n",
    "\n",
    "#column for trip duration in min\n",
    "all_trips$trip_duration <- (as.double(difftime(all_trips$end_time, all_trips$start_time)))/60\n",
    "\n",
    "# check the dataframe\n",
    "glimpse(all_trips)"
   ]
  },
  {
   "cell_type": "markdown",
   "id": "3378400c",
   "metadata": {
    "papermill": {
     "duration": 0.055821,
     "end_time": "2021-06-03T09:22:17.304309",
     "exception": false,
     "start_time": "2021-06-03T09:22:17.248488",
     "status": "completed"
    },
    "tags": []
   },
   "source": [
    "Let's check to see if the trip_duration column has any negative values, as this may cause problem while creating visualizations. Also, we do not want to include the trips that were part of quality tests by the company. These trips are usually identified by string 'test' in the start_station_name column."
   ]
  },
  {
   "cell_type": "code",
   "execution_count": 10,
   "id": "c203d44a",
   "metadata": {
    "execution": {
     "iopub.execute_input": "2021-06-03T09:22:17.421696Z",
     "iopub.status.busy": "2021-06-03T09:22:17.420223Z",
     "iopub.status.idle": "2021-06-03T09:22:21.110463Z",
     "shell.execute_reply": "2021-06-03T09:22:21.109178Z"
    },
    "papermill": {
     "duration": 3.750666,
     "end_time": "2021-06-03T09:22:21.110715",
     "exception": false,
     "start_time": "2021-06-03T09:22:17.360049",
     "status": "completed"
    },
    "tags": [],
    "vscode": {
     "languageId": "r"
    }
   },
   "outputs": [
    {
     "data": {
      "text/html": [
       "10552"
      ],
      "text/latex": [
       "10552"
      ],
      "text/markdown": [
       "10552"
      ],
      "text/plain": [
       "[1] 10552"
      ]
     },
     "metadata": {},
     "output_type": "display_data"
    },
    {
     "data": {
      "text/html": [
       "3364"
      ],
      "text/latex": [
       "3364"
      ],
      "text/markdown": [
       "3364"
      ],
      "text/plain": [
       "[1] 3364"
      ]
     },
     "metadata": {},
     "output_type": "display_data"
    },
    {
     "data": {
      "text/html": [
       "3"
      ],
      "text/latex": [
       "3"
      ],
      "text/markdown": [
       "3"
      ],
      "text/plain": [
       "[1] 3"
      ]
     },
     "metadata": {},
     "output_type": "display_data"
    },
    {
     "data": {
      "text/html": [
       "0"
      ],
      "text/latex": [
       "0"
      ],
      "text/markdown": [
       "0"
      ],
      "text/plain": [
       "[1] 0"
      ]
     },
     "metadata": {},
     "output_type": "display_data"
    }
   ],
   "source": [
    "# checking for trip lengths less than 0\n",
    "nrow(subset(all_trips,trip_duration < 0))\n",
    "  \n",
    "#checking for testrides that were made by company for quality checks\n",
    "nrow(subset(all_trips, start_station_name %like% \"TEST\"))\n",
    "nrow(subset(all_trips, start_station_name %like% \"test\"))\n",
    "nrow(subset(all_trips, start_station_name %like% \"Test\"))\n"
   ]
  },
  {
   "cell_type": "markdown",
   "id": "211091c7",
   "metadata": {
    "papermill": {
     "duration": 0.057597,
     "end_time": "2021-06-03T09:22:21.227012",
     "exception": false,
     "start_time": "2021-06-03T09:22:21.169415",
     "status": "completed"
    },
    "tags": []
   },
   "source": [
    "As there are 10552 rows with trip_dration less than 0 mins and 3367 trips that were test rides, we will remove these observations from our dataframe as they contribute to only about 0.3% of the total rows. We will create a new dataframe deviod of these obseravtions without making any changes to the  existing dataframe."
   ]
  },
  {
   "cell_type": "code",
   "execution_count": 11,
   "id": "08a8d138",
   "metadata": {
    "execution": {
     "iopub.execute_input": "2021-06-03T09:22:21.348613Z",
     "iopub.status.busy": "2021-06-03T09:22:21.347257Z",
     "iopub.status.idle": "2021-06-03T09:22:26.557102Z",
     "shell.execute_reply": "2021-06-03T09:22:26.555179Z"
    },
    "papermill": {
     "duration": 5.27254,
     "end_time": "2021-06-03T09:22:26.557567",
     "exception": false,
     "start_time": "2021-06-03T09:22:21.285027",
     "status": "completed"
    },
    "tags": [],
    "vscode": {
     "languageId": "r"
    }
   },
   "outputs": [
    {
     "name": "stdout",
     "output_type": "stream",
     "text": [
      "Rows: 3,475,844\n",
      "Columns: 13\n",
      "$ ride_id            \u001b[3m\u001b[90m<chr>\u001b[39m\u001b[23m \"A847FADBBC638E45\", \"5405B80E996FF60D\", \"5DD24A79A4…\n",
      "$ ride_type          \u001b[3m\u001b[90m<chr>\u001b[39m\u001b[23m \"docked_bike\", \"docked_bike\", \"docked_bike\", \"docke…\n",
      "$ start_time         \u001b[3m\u001b[90m<dttm>\u001b[39m\u001b[23m 2020-04-26 17:45:14, 2020-04-17 17:08:54, 2020-04-…\n",
      "$ end_time           \u001b[3m\u001b[90m<dttm>\u001b[39m\u001b[23m 2020-04-26 18:12:03, 2020-04-17 17:17:03, 2020-04-…\n",
      "$ start_station_name \u001b[3m\u001b[90m<chr>\u001b[39m\u001b[23m \"Eckhart Park\", \"Drake Ave & Fullerton Ave\", \"McClu…\n",
      "$ start_station_id   \u001b[3m\u001b[90m<dbl>\u001b[39m\u001b[23m 86, 503, 142, 216, 125, 173, 35, 434, 627, 377, 508…\n",
      "$ end_station_name   \u001b[3m\u001b[90m<chr>\u001b[39m\u001b[23m \"Lincoln Ave & Diversey Pkwy\", \"Kosciuszko Park\", \"…\n",
      "$ end_station_id     \u001b[3m\u001b[90m<dbl>\u001b[39m\u001b[23m 152, 499, 255, 657, 323, 35, 635, 382, 359, 508, 37…\n",
      "$ customer_type      \u001b[3m\u001b[90m<chr>\u001b[39m\u001b[23m \"member\", \"member\", \"member\", \"member\", \"casual\", \"…\n",
      "$ day_of_the_week    \u001b[3m\u001b[90m<chr>\u001b[39m\u001b[23m \"Sun\", \"Fri\", \"Wed\", \"Tue\", \"Sat\", \"Thu\", \"Thu\", \"T…\n",
      "$ month              \u001b[3m\u001b[90m<chr>\u001b[39m\u001b[23m \"Apr_20\", \"Apr_20\", \"Apr_20\", \"Apr_20\", \"Apr_20\", \"…\n",
      "$ time               \u001b[3m\u001b[90m<dttm>\u001b[39m\u001b[23m 2021-06-03 17:45:00, 2021-06-03 17:08:00, 2021-06-…\n",
      "$ trip_duration      \u001b[3m\u001b[90m<dbl>\u001b[39m\u001b[23m 26.816667, 8.150000, 14.383333, 12.200000, 52.91666…\n"
     ]
    }
   ],
   "source": [
    "# remove negative trip durations \n",
    "all_trips_v2 <- all_trips[!(all_trips$trip_duration < 0),]\n",
    "\n",
    "#remove test rides\n",
    "all_trips_v2<- all_trips_v2[!((all_trips_v2$start_station_name %like% \"TEST\" | all_trips_v2$start_station_name %like% \"test\")),]\n",
    "\n",
    "#check dataframe\n",
    "glimpse(all_trips_v2)"
   ]
  },
  {
   "cell_type": "markdown",
   "id": "83528944",
   "metadata": {
    "papermill": {
     "duration": 0.058178,
     "end_time": "2021-06-03T09:22:26.674017",
     "exception": false,
     "start_time": "2021-06-03T09:22:26.615839",
     "status": "completed"
    },
    "tags": []
   },
   "source": [
    "It is important to make sure that customer_type column has only two distinct values. Let's confirm the same."
   ]
  },
  {
   "cell_type": "code",
   "execution_count": 12,
   "id": "1fab4d0c",
   "metadata": {
    "execution": {
     "iopub.execute_input": "2021-06-03T09:22:26.797967Z",
     "iopub.status.busy": "2021-06-03T09:22:26.796393Z",
     "iopub.status.idle": "2021-06-03T09:22:29.403257Z",
     "shell.execute_reply": "2021-06-03T09:22:29.401734Z"
    },
    "papermill": {
     "duration": 2.669779,
     "end_time": "2021-06-03T09:22:29.403448",
     "exception": false,
     "start_time": "2021-06-03T09:22:26.733669",
     "status": "completed"
    },
    "tags": [],
    "vscode": {
     "languageId": "r"
    }
   },
   "outputs": [
    {
     "data": {
      "text/plain": [
       "\n",
       " casual  member \n",
       "1423876 2051968 "
      ]
     },
     "metadata": {},
     "output_type": "display_data"
    },
    {
     "data": {
      "text/html": [
       "<table class=\"dataframe\">\n",
       "<caption>A data.frame: 2 × 2</caption>\n",
       "<thead>\n",
       "\t<tr><th scope=col>customer_type</th><th scope=col>total_trip_duration(mins)</th></tr>\n",
       "\t<tr><th scope=col>&lt;chr&gt;</th><th scope=col>&lt;dbl&gt;</th></tr>\n",
       "</thead>\n",
       "<tbody>\n",
       "\t<tr><td>casual</td><td>64176592</td></tr>\n",
       "\t<tr><td>member</td><td>33068730</td></tr>\n",
       "</tbody>\n",
       "</table>\n"
      ],
      "text/latex": [
       "A data.frame: 2 × 2\n",
       "\\begin{tabular}{ll}\n",
       " customer\\_type & total\\_trip\\_duration(mins)\\\\\n",
       " <chr> & <dbl>\\\\\n",
       "\\hline\n",
       "\t casual & 64176592\\\\\n",
       "\t member & 33068730\\\\\n",
       "\\end{tabular}\n"
      ],
      "text/markdown": [
       "\n",
       "A data.frame: 2 × 2\n",
       "\n",
       "| customer_type &lt;chr&gt; | total_trip_duration(mins) &lt;dbl&gt; |\n",
       "|---|---|\n",
       "| casual | 64176592 |\n",
       "| member | 33068730 |\n",
       "\n"
      ],
      "text/plain": [
       "  customer_type total_trip_duration(mins)\n",
       "1 casual        64176592                 \n",
       "2 member        33068730                 "
      ]
     },
     "metadata": {},
     "output_type": "display_data"
    }
   ],
   "source": [
    "# checking count of distinct values\n",
    "table(all_trips_v2$customer_type)\n",
    "#aggregating total trip duration by customer type\n",
    "setNames(aggregate(trip_duration ~ customer_type, all_trips_v2, sum), c(\"customer_type\", \"total_trip_duration(mins)\"))"
   ]
  },
  {
   "cell_type": "markdown",
   "id": "1282c004",
   "metadata": {
    "papermill": {
     "duration": 0.058569,
     "end_time": "2021-06-03T09:22:29.521541",
     "exception": false,
     "start_time": "2021-06-03T09:22:29.462972",
     "status": "completed"
    },
    "tags": []
   },
   "source": [
    "## Analyze and Visualize the Data\n",
    "\n",
    "The dataframe is now ready for descriptive analysis that will help us uncover some insights on how the casual riders and members use Cyclistic rideshare differently.\n",
    "\n",
    "First, let's try to get some simple statistics on trip_duration for all customers, and do the same by customer_type."
   ]
  },
  {
   "cell_type": "code",
   "execution_count": 13,
   "id": "b55b1be8",
   "metadata": {
    "execution": {
     "iopub.execute_input": "2021-06-03T09:22:29.646671Z",
     "iopub.status.busy": "2021-06-03T09:22:29.645228Z",
     "iopub.status.idle": "2021-06-03T09:22:29.874242Z",
     "shell.execute_reply": "2021-06-03T09:22:29.872825Z"
    },
    "papermill": {
     "duration": 0.292831,
     "end_time": "2021-06-03T09:22:29.874411",
     "exception": false,
     "start_time": "2021-06-03T09:22:29.581580",
     "status": "completed"
    },
    "tags": [],
    "vscode": {
     "languageId": "r"
    }
   },
   "outputs": [
    {
     "data": {
      "text/plain": [
       "    Min.  1st Qu.   Median     Mean  3rd Qu.     Max. \n",
       "    0.00     7.95    14.58    27.98    26.70 58720.03 "
      ]
     },
     "metadata": {},
     "output_type": "display_data"
    }
   ],
   "source": [
    "# statictical summary of trip_duration for all trips\n",
    "summary(all_trips_v2$trip_duration)"
   ]
  },
  {
   "cell_type": "code",
   "execution_count": 14,
   "id": "08ef157f",
   "metadata": {
    "execution": {
     "iopub.execute_input": "2021-06-03T09:22:30.001209Z",
     "iopub.status.busy": "2021-06-03T09:22:29.999913Z",
     "iopub.status.idle": "2021-06-03T09:22:30.606898Z",
     "shell.execute_reply": "2021-06-03T09:22:30.605584Z"
    },
    "papermill": {
     "duration": 0.672448,
     "end_time": "2021-06-03T09:22:30.607055",
     "exception": false,
     "start_time": "2021-06-03T09:22:29.934607",
     "status": "completed"
    },
    "tags": [],
    "vscode": {
     "languageId": "r"
    }
   },
   "outputs": [
    {
     "data": {
      "text/html": [
       "<table class=\"dataframe\">\n",
       "<caption>A tibble: 2 × 5</caption>\n",
       "<thead>\n",
       "\t<tr><th scope=col>customer_type</th><th scope=col>min_trip_duration</th><th scope=col>max_trip_duration</th><th scope=col>median_trip_duration</th><th scope=col>mean_trip_duration</th></tr>\n",
       "\t<tr><th scope=col>&lt;chr&gt;</th><th scope=col>&lt;dbl&gt;</th><th scope=col>&lt;dbl&gt;</th><th scope=col>&lt;dbl&gt;</th><th scope=col>&lt;dbl&gt;</th></tr>\n",
       "</thead>\n",
       "<tbody>\n",
       "\t<tr><td>casual</td><td>0</td><td>55683.88</td><td>21.26667</td><td>45.07176</td></tr>\n",
       "\t<tr><td>member</td><td>0</td><td>58720.03</td><td>11.48333</td><td>16.11562</td></tr>\n",
       "</tbody>\n",
       "</table>\n"
      ],
      "text/latex": [
       "A tibble: 2 × 5\n",
       "\\begin{tabular}{lllll}\n",
       " customer\\_type & min\\_trip\\_duration & max\\_trip\\_duration & median\\_trip\\_duration & mean\\_trip\\_duration\\\\\n",
       " <chr> & <dbl> & <dbl> & <dbl> & <dbl>\\\\\n",
       "\\hline\n",
       "\t casual & 0 & 55683.88 & 21.26667 & 45.07176\\\\\n",
       "\t member & 0 & 58720.03 & 11.48333 & 16.11562\\\\\n",
       "\\end{tabular}\n"
      ],
      "text/markdown": [
       "\n",
       "A tibble: 2 × 5\n",
       "\n",
       "| customer_type &lt;chr&gt; | min_trip_duration &lt;dbl&gt; | max_trip_duration &lt;dbl&gt; | median_trip_duration &lt;dbl&gt; | mean_trip_duration &lt;dbl&gt; |\n",
       "|---|---|---|---|---|\n",
       "| casual | 0 | 55683.88 | 21.26667 | 45.07176 |\n",
       "| member | 0 | 58720.03 | 11.48333 | 16.11562 |\n",
       "\n"
      ],
      "text/plain": [
       "  customer_type min_trip_duration max_trip_duration median_trip_duration\n",
       "1 casual        0                 55683.88          21.26667            \n",
       "2 member        0                 58720.03          11.48333            \n",
       "  mean_trip_duration\n",
       "1 45.07176          \n",
       "2 16.11562          "
      ]
     },
     "metadata": {},
     "output_type": "display_data"
    }
   ],
   "source": [
    "#statistical summary of trip_duration by customer_type\n",
    "all_trips_v2 %>%\n",
    "    group_by(customer_type) %>%\n",
    "    summarise(min_trip_duration = min(trip_duration),max_trip_duration = max(trip_duration),\n",
    "              median_trip_duration = median(trip_duration), mean_trip_duration = mean(trip_duration))"
   ]
  },
  {
   "cell_type": "markdown",
   "id": "f6c4beea",
   "metadata": {
    "papermill": {
     "duration": 0.061606,
     "end_time": "2021-06-03T09:22:30.728577",
     "exception": false,
     "start_time": "2021-06-03T09:22:30.666971",
     "status": "completed"
    },
    "tags": []
   },
   "source": [
    "The mean trip duration of member riders is lower than the mean trip duration of all trips, while it is exactly the opposite for casual riders, whose mean trip duration is higher than the the mean trip duration of all trips. This tells us that casual riders usually take the bikes out for a longer duration compared to members."
   ]
  },
  {
   "cell_type": "markdown",
   "id": "c2efdcba",
   "metadata": {
    "papermill": {
     "duration": 0.060071,
     "end_time": "2021-06-03T09:22:30.848709",
     "exception": false,
     "start_time": "2021-06-03T09:22:30.788638",
     "status": "completed"
    },
    "tags": []
   },
   "source": [
    "#### Total number of trips by customer type and day of the week"
   ]
  },
  {
   "cell_type": "code",
   "execution_count": 15,
   "id": "3be697cf",
   "metadata": {
    "execution": {
     "iopub.execute_input": "2021-06-03T09:22:30.974895Z",
     "iopub.status.busy": "2021-06-03T09:22:30.973416Z",
     "iopub.status.idle": "2021-06-03T09:22:31.347594Z",
     "shell.execute_reply": "2021-06-03T09:22:31.345936Z"
    },
    "papermill": {
     "duration": 0.439069,
     "end_time": "2021-06-03T09:22:31.347789",
     "exception": false,
     "start_time": "2021-06-03T09:22:30.908720",
     "status": "completed"
    },
    "tags": [],
    "vscode": {
     "languageId": "r"
    }
   },
   "outputs": [
    {
     "name": "stderr",
     "output_type": "stream",
     "text": [
      "`summarise()` has grouped output by 'customer_type'. You can override using the `.groups` argument.\n",
      "\n"
     ]
    },
    {
     "data": {
      "text/html": [
       "<table class=\"dataframe\">\n",
       "<caption>A grouped_df: 14 × 4</caption>\n",
       "<thead>\n",
       "\t<tr><th scope=col>customer_type</th><th scope=col>day_of_the_week</th><th scope=col>number_of_rides</th><th scope=col>average_duration_mins</th></tr>\n",
       "\t<tr><th scope=col>&lt;chr&gt;</th><th scope=col>&lt;ord&gt;</th><th scope=col>&lt;int&gt;</th><th scope=col>&lt;dbl&gt;</th></tr>\n",
       "</thead>\n",
       "<tbody>\n",
       "\t<tr><td>casual</td><td>Sat</td><td>334933</td><td>46.97361</td></tr>\n",
       "\t<tr><td>casual</td><td>Sun</td><td>262183</td><td>50.76010</td></tr>\n",
       "\t<tr><td>casual</td><td>Fri</td><td>207852</td><td>42.91064</td></tr>\n",
       "\t<tr><td>casual</td><td>Thu</td><td>165806</td><td>43.12270</td></tr>\n",
       "\t<tr><td>casual</td><td>Wed</td><td>157849</td><td>40.45488</td></tr>\n",
       "\t<tr><td>casual</td><td>Mon</td><td>150590</td><td>45.14851</td></tr>\n",
       "\t<tr><td>casual</td><td>Tue</td><td>144663</td><td>40.65589</td></tr>\n",
       "\t<tr><td>member</td><td>Sat</td><td>323109</td><td>17.79397</td></tr>\n",
       "\t<tr><td>member</td><td>Fri</td><td>306388</td><td>15.80208</td></tr>\n",
       "\t<tr><td>member</td><td>Wed</td><td>305049</td><td>15.31706</td></tr>\n",
       "\t<tr><td>member</td><td>Thu</td><td>300439</td><td>15.20958</td></tr>\n",
       "\t<tr><td>member</td><td>Tue</td><td>284366</td><td>15.13072</td></tr>\n",
       "\t<tr><td>member</td><td>Mon</td><td>267326</td><td>15.33735</td></tr>\n",
       "\t<tr><td>member</td><td>Sun</td><td>265291</td><td>18.21784</td></tr>\n",
       "</tbody>\n",
       "</table>\n"
      ],
      "text/latex": [
       "A grouped\\_df: 14 × 4\n",
       "\\begin{tabular}{llll}\n",
       " customer\\_type & day\\_of\\_the\\_week & number\\_of\\_rides & average\\_duration\\_mins\\\\\n",
       " <chr> & <ord> & <int> & <dbl>\\\\\n",
       "\\hline\n",
       "\t casual & Sat & 334933 & 46.97361\\\\\n",
       "\t casual & Sun & 262183 & 50.76010\\\\\n",
       "\t casual & Fri & 207852 & 42.91064\\\\\n",
       "\t casual & Thu & 165806 & 43.12270\\\\\n",
       "\t casual & Wed & 157849 & 40.45488\\\\\n",
       "\t casual & Mon & 150590 & 45.14851\\\\\n",
       "\t casual & Tue & 144663 & 40.65589\\\\\n",
       "\t member & Sat & 323109 & 17.79397\\\\\n",
       "\t member & Fri & 306388 & 15.80208\\\\\n",
       "\t member & Wed & 305049 & 15.31706\\\\\n",
       "\t member & Thu & 300439 & 15.20958\\\\\n",
       "\t member & Tue & 284366 & 15.13072\\\\\n",
       "\t member & Mon & 267326 & 15.33735\\\\\n",
       "\t member & Sun & 265291 & 18.21784\\\\\n",
       "\\end{tabular}\n"
      ],
      "text/markdown": [
       "\n",
       "A grouped_df: 14 × 4\n",
       "\n",
       "| customer_type &lt;chr&gt; | day_of_the_week &lt;ord&gt; | number_of_rides &lt;int&gt; | average_duration_mins &lt;dbl&gt; |\n",
       "|---|---|---|---|\n",
       "| casual | Sat | 334933 | 46.97361 |\n",
       "| casual | Sun | 262183 | 50.76010 |\n",
       "| casual | Fri | 207852 | 42.91064 |\n",
       "| casual | Thu | 165806 | 43.12270 |\n",
       "| casual | Wed | 157849 | 40.45488 |\n",
       "| casual | Mon | 150590 | 45.14851 |\n",
       "| casual | Tue | 144663 | 40.65589 |\n",
       "| member | Sat | 323109 | 17.79397 |\n",
       "| member | Fri | 306388 | 15.80208 |\n",
       "| member | Wed | 305049 | 15.31706 |\n",
       "| member | Thu | 300439 | 15.20958 |\n",
       "| member | Tue | 284366 | 15.13072 |\n",
       "| member | Mon | 267326 | 15.33735 |\n",
       "| member | Sun | 265291 | 18.21784 |\n",
       "\n"
      ],
      "text/plain": [
       "   customer_type day_of_the_week number_of_rides average_duration_mins\n",
       "1  casual        Sat             334933          46.97361             \n",
       "2  casual        Sun             262183          50.76010             \n",
       "3  casual        Fri             207852          42.91064             \n",
       "4  casual        Thu             165806          43.12270             \n",
       "5  casual        Wed             157849          40.45488             \n",
       "6  casual        Mon             150590          45.14851             \n",
       "7  casual        Tue             144663          40.65589             \n",
       "8  member        Sat             323109          17.79397             \n",
       "9  member        Fri             306388          15.80208             \n",
       "10 member        Wed             305049          15.31706             \n",
       "11 member        Thu             300439          15.20958             \n",
       "12 member        Tue             284366          15.13072             \n",
       "13 member        Mon             267326          15.33735             \n",
       "14 member        Sun             265291          18.21784             "
      ]
     },
     "metadata": {},
     "output_type": "display_data"
    }
   ],
   "source": [
    "# fix the order for the day_of_the_week and month variable so that they show up \n",
    "# in the same sequence in output tables and visualizations\n",
    "all_trips_v2$day_of_the_week <- ordered(all_trips_v2$day_of_the_week, levels=c(\"Mon\", \"Tue\", \"Wed\", \"Thu\", \"Fri\", \"Sat\", \"Sun\"))\n",
    "all_trips_v2$month <- ordered(all_trips_v2$month, levels=c(\"Apr_20\", \"May_20\", \"Jun_20\", \"Jul_20\", \"Aug_20\", \"Sep_20\", \"Oct_20\",\n",
    "                                                          \"Nov_20\", \"Dec_20\", \"Jan_21\", \"Feb_21\", \"Mar_21\"))\n",
    "all_trips_v2 %>% \n",
    "  group_by(customer_type, day_of_the_week) %>%  \n",
    "  summarise(number_of_rides = n(),average_duration_mins = mean(trip_duration)) %>% \n",
    "  arrange(customer_type, desc(number_of_rides))"
   ]
  },
  {
   "cell_type": "markdown",
   "id": "cab4e808",
   "metadata": {
    "papermill": {
     "duration": 0.06109,
     "end_time": "2021-06-03T09:22:31.511593",
     "exception": false,
     "start_time": "2021-06-03T09:22:31.450503",
     "status": "completed"
    },
    "tags": []
   },
   "source": [
    "#### Visualization: "
   ]
  },
  {
   "cell_type": "code",
   "execution_count": 16,
   "id": "537d5226",
   "metadata": {
    "execution": {
     "iopub.execute_input": "2021-06-03T09:22:31.640039Z",
     "iopub.status.busy": "2021-06-03T09:22:31.638435Z",
     "iopub.status.idle": "2021-06-03T09:22:32.555476Z",
     "shell.execute_reply": "2021-06-03T09:22:32.554509Z"
    },
    "papermill": {
     "duration": 0.983177,
     "end_time": "2021-06-03T09:22:32.555697",
     "exception": false,
     "start_time": "2021-06-03T09:22:31.572520",
     "status": "completed"
    },
    "tags": [],
    "vscode": {
     "languageId": "r"
    }
   },
   "outputs": [
    {
     "name": "stderr",
     "output_type": "stream",
     "text": [
      "`summarise()` has grouped output by 'customer_type'. You can override using the `.groups` argument.\n",
      "\n"
     ]
    },
    {
     "data": {
      "image/png": "[encoded data removed]"
     },
     "metadata": {
      "image/png": {
       "height": 420,
       "width": 420
      }
     },
     "output_type": "display_data"
    }
   ],
   "source": [
    "all_trips_v2 %>%  \n",
    "  group_by(customer_type, day_of_the_week) %>% \n",
    "  summarise(number_of_rides = n()) %>% \n",
    "  arrange(customer_type, day_of_the_week)  %>% \n",
    "  ggplot(aes(x = day_of_the_week, y = number_of_rides, fill = customer_type)) +\n",
    "  labs(title =\"Total trips by customer type Vs. Day of the week\") +\n",
    "  geom_col(width=0.5, position = position_dodge(width=0.5)) +\n",
    "  scale_y_continuous(labels = function(x) format(x, scientific = FALSE))"
   ]
  },
  {
   "cell_type": "markdown",
   "id": "c0464e3b",
   "metadata": {
    "papermill": {
     "duration": 0.062685,
     "end_time": "2021-06-03T09:22:32.681685",
     "exception": false,
     "start_time": "2021-06-03T09:22:32.619000",
     "status": "completed"
    },
    "tags": []
   },
   "source": [
    "From the table and graph above, casual customers are most busy on Sundays followed by Saturdays, while members are most busy on later half of the week extending into the weekend. Interesting pattern to note though is the consistent trip numbers among members with less spread over entire week as compared to casual riders who don't seem to use the bikeshare services much during weekdays."
   ]
  },
  {
   "cell_type": "markdown",
   "id": "343c8565",
   "metadata": {
    "papermill": {
     "duration": 0.062348,
     "end_time": "2021-06-03T09:22:32.807736",
     "exception": false,
     "start_time": "2021-06-03T09:22:32.745388",
     "status": "completed"
    },
    "tags": []
   },
   "source": [
    "#### Average number of trips by customer type and month"
   ]
  },
  {
   "cell_type": "code",
   "execution_count": 17,
   "id": "26354394",
   "metadata": {
    "execution": {
     "iopub.execute_input": "2021-06-03T09:22:32.939186Z",
     "iopub.status.busy": "2021-06-03T09:22:32.937574Z",
     "iopub.status.idle": "2021-06-03T09:22:33.232336Z",
     "shell.execute_reply": "2021-06-03T09:22:33.230405Z"
    },
    "papermill": {
     "duration": 0.362324,
     "end_time": "2021-06-03T09:22:33.232501",
     "exception": false,
     "start_time": "2021-06-03T09:22:32.870177",
     "status": "completed"
    },
    "tags": [],
    "vscode": {
     "languageId": "r"
    }
   },
   "outputs": [
    {
     "name": "stderr",
     "output_type": "stream",
     "text": [
      "`summarise()` has grouped output by 'customer_type'. You can override using the `.groups` argument.\n",
      "\n"
     ]
    },
    {
     "data": {
      "text/html": [
       "<table class=\"dataframe\">\n",
       "<caption>A grouped_df: 24 × 4</caption>\n",
       "<thead>\n",
       "\t<tr><th scope=col>customer_type</th><th scope=col>month</th><th scope=col>number_of_rides</th><th scope=col>average_duration_(mins)</th></tr>\n",
       "\t<tr><th scope=col>&lt;chr&gt;</th><th scope=col>&lt;ord&gt;</th><th scope=col>&lt;int&gt;</th><th scope=col>&lt;dbl&gt;</th></tr>\n",
       "</thead>\n",
       "<tbody>\n",
       "\t<tr><td>casual</td><td>Aug_20</td><td>287171</td><td>45.16081</td></tr>\n",
       "\t<tr><td>casual</td><td>Jul_20</td><td>268549</td><td>59.98008</td></tr>\n",
       "\t<tr><td>casual</td><td>Sep_20</td><td>229435</td><td>38.32516</td></tr>\n",
       "\t<tr><td>casual</td><td>Jun_20</td><td>154401</td><td>51.71658</td></tr>\n",
       "\t<tr><td>casual</td><td>Oct_20</td><td>143850</td><td>30.39722</td></tr>\n",
       "\t<tr><td>casual</td><td>Nov_20</td><td> 87810</td><td>31.85596</td></tr>\n",
       "\t<tr><td>casual</td><td>May_20</td><td> 86786</td><td>51.25173</td></tr>\n",
       "\t<tr><td>casual</td><td>Mar_21</td><td> 84032</td><td>38.15919</td></tr>\n",
       "\t<tr><td>casual</td><td>Dec_20</td><td> 29997</td><td>26.84961</td></tr>\n",
       "\t<tr><td>casual</td><td>Apr_20</td><td> 23597</td><td>73.16731</td></tr>\n",
       "\t<tr><td>casual</td><td>Jan_21</td><td> 18117</td><td>25.68459</td></tr>\n",
       "\t<tr><td>casual</td><td>Feb_21</td><td> 10131</td><td>49.37323</td></tr>\n",
       "\t<tr><td>member</td><td>Aug_20</td><td>330938</td><td>16.83368</td></tr>\n",
       "\t<tr><td>member</td><td>Sep_20</td><td>300727</td><td>15.54009</td></tr>\n",
       "\t<tr><td>member</td><td>Jul_20</td><td>281041</td><td>17.76596</td></tr>\n",
       "\t<tr><td>member</td><td>Oct_20</td><td>242198</td><td>14.04976</td></tr>\n",
       "\t<tr><td>member</td><td>Jun_20</td><td>187985</td><td>18.73151</td></tr>\n",
       "\t<tr><td>member</td><td>Nov_20</td><td>170937</td><td>13.58864</td></tr>\n",
       "\t<tr><td>member</td><td>Mar_21</td><td>144462</td><td>13.97005</td></tr>\n",
       "\t<tr><td>member</td><td>May_20</td><td>113218</td><td>19.77930</td></tr>\n",
       "\t<tr><td>member</td><td>Dec_20</td><td>101141</td><td>12.74946</td></tr>\n",
       "\t<tr><td>member</td><td>Jan_21</td><td> 78715</td><td>12.87231</td></tr>\n",
       "\t<tr><td>member</td><td>Apr_20</td><td> 61115</td><td>21.47929</td></tr>\n",
       "\t<tr><td>member</td><td>Feb_21</td><td> 39491</td><td>18.02208</td></tr>\n",
       "</tbody>\n",
       "</table>\n"
      ],
      "text/latex": [
       "A grouped\\_df: 24 × 4\n",
       "\\begin{tabular}{llll}\n",
       " customer\\_type & month & number\\_of\\_rides & average\\_duration\\_(mins)\\\\\n",
       " <chr> & <ord> & <int> & <dbl>\\\\\n",
       "\\hline\n",
       "\t casual & Aug\\_20 & 287171 & 45.16081\\\\\n",
       "\t casual & Jul\\_20 & 268549 & 59.98008\\\\\n",
       "\t casual & Sep\\_20 & 229435 & 38.32516\\\\\n",
       "\t casual & Jun\\_20 & 154401 & 51.71658\\\\\n",
       "\t casual & Oct\\_20 & 143850 & 30.39722\\\\\n",
       "\t casual & Nov\\_20 &  87810 & 31.85596\\\\\n",
       "\t casual & May\\_20 &  86786 & 51.25173\\\\\n",
       "\t casual & Mar\\_21 &  84032 & 38.15919\\\\\n",
       "\t casual & Dec\\_20 &  29997 & 26.84961\\\\\n",
       "\t casual & Apr\\_20 &  23597 & 73.16731\\\\\n",
       "\t casual & Jan\\_21 &  18117 & 25.68459\\\\\n",
       "\t casual & Feb\\_21 &  10131 & 49.37323\\\\\n",
       "\t member & Aug\\_20 & 330938 & 16.83368\\\\\n",
       "\t member & Sep\\_20 & 300727 & 15.54009\\\\\n",
       "\t member & Jul\\_20 & 281041 & 17.76596\\\\\n",
       "\t member & Oct\\_20 & 242198 & 14.04976\\\\\n",
       "\t member & Jun\\_20 & 187985 & 18.73151\\\\\n",
       "\t member & Nov\\_20 & 170937 & 13.58864\\\\\n",
       "\t member & Mar\\_21 & 144462 & 13.97005\\\\\n",
       "\t member & May\\_20 & 113218 & 19.77930\\\\\n",
       "\t member & Dec\\_20 & 101141 & 12.74946\\\\\n",
       "\t member & Jan\\_21 &  78715 & 12.87231\\\\\n",
       "\t member & Apr\\_20 &  61115 & 21.47929\\\\\n",
       "\t member & Feb\\_21 &  39491 & 18.02208\\\\\n",
       "\\end{tabular}\n"
      ],
      "text/markdown": [
       "\n",
       "A grouped_df: 24 × 4\n",
       "\n",
       "| customer_type &lt;chr&gt; | month &lt;ord&gt; | number_of_rides &lt;int&gt; | average_duration_(mins) &lt;dbl&gt; |\n",
       "|---|---|---|---|\n",
       "| casual | Aug_20 | 287171 | 45.16081 |\n",
       "| casual | Jul_20 | 268549 | 59.98008 |\n",
       "| casual | Sep_20 | 229435 | 38.32516 |\n",
       "| casual | Jun_20 | 154401 | 51.71658 |\n",
       "| casual | Oct_20 | 143850 | 30.39722 |\n",
       "| casual | Nov_20 |  87810 | 31.85596 |\n",
       "| casual | May_20 |  86786 | 51.25173 |\n",
       "| casual | Mar_21 |  84032 | 38.15919 |\n",
       "| casual | Dec_20 |  29997 | 26.84961 |\n",
       "| casual | Apr_20 |  23597 | 73.16731 |\n",
       "| casual | Jan_21 |  18117 | 25.68459 |\n",
       "| casual | Feb_21 |  10131 | 49.37323 |\n",
       "| member | Aug_20 | 330938 | 16.83368 |\n",
       "| member | Sep_20 | 300727 | 15.54009 |\n",
       "| member | Jul_20 | 281041 | 17.76596 |\n",
       "| member | Oct_20 | 242198 | 14.04976 |\n",
       "| member | Jun_20 | 187985 | 18.73151 |\n",
       "| member | Nov_20 | 170937 | 13.58864 |\n",
       "| member | Mar_21 | 144462 | 13.97005 |\n",
       "| member | May_20 | 113218 | 19.77930 |\n",
       "| member | Dec_20 | 101141 | 12.74946 |\n",
       "| member | Jan_21 |  78715 | 12.87231 |\n",
       "| member | Apr_20 |  61115 | 21.47929 |\n",
       "| member | Feb_21 |  39491 | 18.02208 |\n",
       "\n"
      ],
      "text/plain": [
       "   customer_type month  number_of_rides average_duration_(mins)\n",
       "1  casual        Aug_20 287171          45.16081               \n",
       "2  casual        Jul_20 268549          59.98008               \n",
       "3  casual        Sep_20 229435          38.32516               \n",
       "4  casual        Jun_20 154401          51.71658               \n",
       "5  casual        Oct_20 143850          30.39722               \n",
       "6  casual        Nov_20  87810          31.85596               \n",
       "7  casual        May_20  86786          51.25173               \n",
       "8  casual        Mar_21  84032          38.15919               \n",
       "9  casual        Dec_20  29997          26.84961               \n",
       "10 casual        Apr_20  23597          73.16731               \n",
       "11 casual        Jan_21  18117          25.68459               \n",
       "12 casual        Feb_21  10131          49.37323               \n",
       "13 member        Aug_20 330938          16.83368               \n",
       "14 member        Sep_20 300727          15.54009               \n",
       "15 member        Jul_20 281041          17.76596               \n",
       "16 member        Oct_20 242198          14.04976               \n",
       "17 member        Jun_20 187985          18.73151               \n",
       "18 member        Nov_20 170937          13.58864               \n",
       "19 member        Mar_21 144462          13.97005               \n",
       "20 member        May_20 113218          19.77930               \n",
       "21 member        Dec_20 101141          12.74946               \n",
       "22 member        Jan_21  78715          12.87231               \n",
       "23 member        Apr_20  61115          21.47929               \n",
       "24 member        Feb_21  39491          18.02208               "
      ]
     },
     "metadata": {},
     "output_type": "display_data"
    }
   ],
   "source": [
    "all_trips_v2 %>% \n",
    "  group_by(customer_type, month) %>%  \n",
    "  summarise(number_of_rides = n(),`average_duration_(mins)` = mean(trip_duration)) %>% \n",
    "  arrange(customer_type,desc(number_of_rides))"
   ]
  },
  {
   "cell_type": "markdown",
   "id": "44d67897",
   "metadata": {
    "papermill": {
     "duration": 0.063727,
     "end_time": "2021-06-03T09:22:33.359982",
     "exception": false,
     "start_time": "2021-06-03T09:22:33.296255",
     "status": "completed"
    },
    "tags": []
   },
   "source": [
    "#### Visualization:"
   ]
  },
  {
   "cell_type": "code",
   "execution_count": 18,
   "id": "0b18a6c9",
   "metadata": {
    "execution": {
     "iopub.execute_input": "2021-06-03T09:22:33.494274Z",
     "iopub.status.busy": "2021-06-03T09:22:33.492482Z",
     "iopub.status.idle": "2021-06-03T09:22:34.190801Z",
     "shell.execute_reply": "2021-06-03T09:22:34.189736Z"
    },
    "papermill": {
     "duration": 0.767292,
     "end_time": "2021-06-03T09:22:34.190987",
     "exception": false,
     "start_time": "2021-06-03T09:22:33.423695",
     "status": "completed"
    },
    "tags": [],
    "vscode": {
     "languageId": "r"
    }
   },
   "outputs": [
    {
     "name": "stderr",
     "output_type": "stream",
     "text": [
      "`summarise()` has grouped output by 'customer_type'. You can override using the `.groups` argument.\n",
      "\n"
     ]
    },
    {
     "data": {
      "image/png": "[encoded data removed]"
     },
     "metadata": {
      "image/png": {
       "height": 420,
       "width": 420
      }
     },
     "output_type": "display_data"
    }
   ],
   "source": [
    "all_trips_v2 %>%  \n",
    "  group_by(customer_type, month) %>% \n",
    "  summarise(number_of_rides = n()) %>% \n",
    "  arrange(customer_type, month)  %>% \n",
    "  ggplot(aes(x = month, y = number_of_rides, fill = customer_type)) +\n",
    "  labs(title =\"Total trips by customer type Vs. Month\") +\n",
    "  theme(axis.text.x = element_text(angle = 30)) +\n",
    "  geom_col(width=0.5, position = position_dodge(width=0.5)) +\n",
    "  scale_y_continuous(labels = function(x) format(x, scientific = FALSE))"
   ]
  },
  {
   "cell_type": "markdown",
   "id": "2ecfda9c",
   "metadata": {
    "papermill": {
     "duration": 0.065838,
     "end_time": "2021-06-03T09:22:34.325475",
     "exception": false,
     "start_time": "2021-06-03T09:22:34.259637",
     "status": "completed"
    },
    "tags": []
   },
   "source": [
    "The data shows that the months of July, August and September are the most busy time of the year among both members and casual riders. The lean period of the year (Dec- Mar) show the same trend among both the type of customers. This could be attributed to an external factor (eg. cold weather, major quality issue) that might have hindered with customer needs.\n",
    "However, the number of trips made by members is always higher than the casual riders across all months of the year."
   ]
  },
  {
   "cell_type": "markdown",
   "id": "f236c4a7",
   "metadata": {
    "papermill": {
     "duration": 0.06608,
     "end_time": "2021-06-03T09:22:34.457038",
     "exception": false,
     "start_time": "2021-06-03T09:22:34.390958",
     "status": "completed"
    },
    "tags": []
   },
   "source": [
    "#### Visualizaton of average trip duration by customer type on each day of the week"
   ]
  },
  {
   "cell_type": "code",
   "execution_count": 19,
   "id": "32ac2014",
   "metadata": {
    "execution": {
     "iopub.execute_input": "2021-06-03T09:22:34.594936Z",
     "iopub.status.busy": "2021-06-03T09:22:34.593271Z",
     "iopub.status.idle": "2021-06-03T09:22:35.551021Z",
     "shell.execute_reply": "2021-06-03T09:22:35.549783Z"
    },
    "papermill": {
     "duration": 1.029024,
     "end_time": "2021-06-03T09:22:35.551224",
     "exception": false,
     "start_time": "2021-06-03T09:22:34.522200",
     "status": "completed"
    },
    "tags": [],
    "vscode": {
     "languageId": "r"
    }
   },
   "outputs": [
    {
     "name": "stderr",
     "output_type": "stream",
     "text": [
      "`summarise()` has grouped output by 'customer_type'. You can override using the `.groups` argument.\n",
      "\n"
     ]
    },
    {
     "data": {
      "image/png": "[encoded data removed]"
     },
     "metadata": {
      "image/png": {
       "height": 420,
       "width": 420
      }
     },
     "output_type": "display_data"
    }
   ],
   "source": [
    "all_trips_v2 %>%  \n",
    "  group_by(customer_type, day_of_the_week) %>% \n",
    "  summarise(average_trip_duration = mean(trip_duration)) %>%\n",
    "  ggplot(aes(x = day_of_the_week, y = average_trip_duration, fill = customer_type)) +\n",
    "  geom_col(width=0.5, position = position_dodge(width=0.5)) + \n",
    "  labs(title =\"Average trip duration by customer type Vs. Day of the week\")\n",
    "  "
   ]
  },
  {
   "cell_type": "markdown",
   "id": "148a74ff",
   "metadata": {
    "papermill": {
     "duration": 0.069577,
     "end_time": "2021-06-03T09:22:35.691146",
     "exception": false,
     "start_time": "2021-06-03T09:22:35.621569",
     "status": "completed"
    },
    "tags": []
   },
   "source": [
    "The average trip duration of a casual rider is more than twice that of a member. Note that this necessarily does not mean that casual riders travel farther distance. It is also interesting to note that weekends not only contribute to more number of trips but also longer trips on average when compared to weekdays."
   ]
  },
  {
   "cell_type": "markdown",
   "id": "dc743af4",
   "metadata": {
    "papermill": {
     "duration": 0.06697,
     "end_time": "2021-06-03T09:22:35.826339",
     "exception": false,
     "start_time": "2021-06-03T09:22:35.759369",
     "status": "completed"
    },
    "tags": []
   },
   "source": [
    "#### Visualizaton of average trip duration by customer type Vs. month"
   ]
  },
  {
   "cell_type": "code",
   "execution_count": 20,
   "id": "b8a78ae4",
   "metadata": {
    "execution": {
     "iopub.execute_input": "2021-06-03T09:22:35.966368Z",
     "iopub.status.busy": "2021-06-03T09:22:35.964904Z",
     "iopub.status.idle": "2021-06-03T09:22:36.532841Z",
     "shell.execute_reply": "2021-06-03T09:22:36.531648Z"
    },
    "papermill": {
     "duration": 0.640029,
     "end_time": "2021-06-03T09:22:36.533010",
     "exception": false,
     "start_time": "2021-06-03T09:22:35.892981",
     "status": "completed"
    },
    "tags": [],
    "vscode": {
     "languageId": "r"
    }
   },
   "outputs": [
    {
     "name": "stderr",
     "output_type": "stream",
     "text": [
      "`summarise()` has grouped output by 'customer_type'. You can override using the `.groups` argument.\n",
      "\n"
     ]
    },
    {
     "data": {
      "image/png": "[encoded data removed]"
     },
     "metadata": {
      "image/png": {
       "height": 420,
       "width": 420
      }
     },
     "output_type": "display_data"
    }
   ],
   "source": [
    "all_trips_v2 %>%  \n",
    "  group_by(customer_type, month) %>% \n",
    "  summarise(average_trip_duration = mean(trip_duration)) %>%\n",
    "  ggplot(aes(x = month, y = average_trip_duration, fill = customer_type)) +\n",
    "  geom_col(width=0.5, position = position_dodge(width=0.5)) + \n",
    "  labs(title =\"Average trip duration by customer type Vs. Month\") +\n",
    "  theme(axis.text.x = element_text(angle = 30))"
   ]
  },
  {
   "cell_type": "markdown",
   "id": "59f97d9d",
   "metadata": {
    "papermill": {
     "duration": 0.07037,
     "end_time": "2021-06-03T09:22:36.674604",
     "exception": false,
     "start_time": "2021-06-03T09:22:36.604234",
     "status": "completed"
    },
    "tags": []
   },
   "source": [
    "Average trip duration of member riders is anywhere between 10-20 minutes throughout the year, exception being April when it goes slightly over 20 minutes. However, there seems to be a distinct pattern when it comes to casual riders, whose average trip duration swings wildly from as low as ~25 minutes to more than an hour depending on time of the year. It is worth noting unusually long trip durations by casual riders in the month of April. "
   ]
  },
  {
   "cell_type": "markdown",
   "id": "d8c6b388",
   "metadata": {
    "papermill": {
     "duration": 0.071225,
     "end_time": "2021-06-03T09:22:36.818542",
     "exception": false,
     "start_time": "2021-06-03T09:22:36.747317",
     "status": "completed"
    },
    "tags": []
   },
   "source": [
    "#### Visualizaton of bike demand over 24 hr period (a day)"
   ]
  },
  {
   "cell_type": "code",
   "execution_count": 21,
   "id": "b27bc335",
   "metadata": {
    "execution": {
     "iopub.execute_input": "2021-06-03T09:22:36.966832Z",
     "iopub.status.busy": "2021-06-03T09:22:36.965238Z",
     "iopub.status.idle": "2021-06-03T09:22:38.003081Z",
     "shell.execute_reply": "2021-06-03T09:22:38.002009Z"
    },
    "papermill": {
     "duration": 1.11429,
     "end_time": "2021-06-03T09:22:38.003244",
     "exception": false,
     "start_time": "2021-06-03T09:22:36.888954",
     "status": "completed"
    },
    "tags": [],
    "vscode": {
     "languageId": "r"
    }
   },
   "outputs": [
    {
     "name": "stderr",
     "output_type": "stream",
     "text": [
      "`summarise()` has grouped output by 'customer_type'. You can override using the `.groups` argument.\n",
      "\n"
     ]
    },
    {
     "data": {
      "image/png": "[encoded data removed]"
     },
     "metadata": {
      "image/png": {
       "height": 420,
       "width": 420
      }
     },
     "output_type": "display_data"
    }
   ],
   "source": [
    "all_trips_v2 %>%  \n",
    "  group_by(customer_type, time) %>% \n",
    "  summarise(number_of_trips = n()) %>%\n",
    "  ggplot(aes(x = time, y = number_of_trips, color = customer_type, group = customer_type)) +\n",
    "  geom_line() +\n",
    "  scale_x_datetime(date_breaks = \"1 hour\", minor_breaks = NULL,\n",
    "                   date_labels = \"%H:%M\", expand = c(0,0)) +\n",
    "  theme(axis.text.x = element_text(angle = 90)) +\n",
    "  labs(title =\"Demand over 24 hours of a day\", x = \"Time of the day\")"
   ]
  },
  {
   "cell_type": "markdown",
   "id": "fa0f99b5",
   "metadata": {
    "papermill": {
     "duration": 0.073967,
     "end_time": "2021-06-03T09:22:38.151210",
     "exception": false,
     "start_time": "2021-06-03T09:22:38.077243",
     "status": "completed"
    },
    "tags": []
   },
   "source": [
    "For the members, there seems to be two distict peak demand hours: 7-9 AM and 5-7 PM, the latter one coinciding with the peak demand hours of casual riders as well. One could probably hypothesize that office-goers make up majority of the members profile due to demand in both morning and evening hours, but we need more data to substabtiate this assumption."
   ]
  },
  {
   "cell_type": "markdown",
   "id": "5a8e7af7",
   "metadata": {
    "papermill": {
     "duration": 0.073984,
     "end_time": "2021-06-03T09:22:38.298204",
     "exception": false,
     "start_time": "2021-06-03T09:22:38.224220",
     "status": "completed"
    },
    "tags": []
   },
   "source": [
    "#### Visualizaton of ride type Vs. number of trips by customer type"
   ]
  },
  {
   "cell_type": "code",
   "execution_count": 22,
   "id": "11d683fe",
   "metadata": {
    "execution": {
     "iopub.execute_input": "2021-06-03T09:22:38.451386Z",
     "iopub.status.busy": "2021-06-03T09:22:38.449601Z",
     "iopub.status.idle": "2021-06-03T09:22:38.951271Z",
     "shell.execute_reply": "2021-06-03T09:22:38.949701Z"
    },
    "papermill": {
     "duration": 0.578883,
     "end_time": "2021-06-03T09:22:38.951453",
     "exception": false,
     "start_time": "2021-06-03T09:22:38.372570",
     "status": "completed"
    },
    "tags": [],
    "vscode": {
     "languageId": "r"
    }
   },
   "outputs": [
    {
     "name": "stderr",
     "output_type": "stream",
     "text": [
      "`summarise()` has grouped output by 'ride_type'. You can override using the `.groups` argument.\n",
      "\n"
     ]
    },
    {
     "data": {
      "image/png": "[encoded data removed]"
     },
     "metadata": {
      "image/png": {
       "height": 420,
       "width": 420
      }
     },
     "output_type": "display_data"
    }
   ],
   "source": [
    "all_trips_v2 %>%\n",
    "  group_by(ride_type, customer_type) %>%\n",
    "  summarise(number_of_trips = n()) %>%  \n",
    "  ggplot(aes(x= ride_type, y=number_of_trips, fill= customer_type))+\n",
    "              geom_bar(stat='identity') +\n",
    "  scale_y_continuous(labels = function(x) format(x, scientific = FALSE)) +\n",
    "  labs(title =\"Ride type Vs. Number of trips\")"
   ]
  },
  {
   "cell_type": "markdown",
   "id": "eae27bc6",
   "metadata": {
    "papermill": {
     "duration": 0.073328,
     "end_time": "2021-06-03T09:22:39.099644",
     "exception": false,
     "start_time": "2021-06-03T09:22:39.026316",
     "status": "completed"
    },
    "tags": []
   },
   "source": [
    "Classic bikes are predominantly used by members. Docked bikes are in most demand and equally used by both members as well as casual riders. Electric bikes are more favored by members. If electric bikes costs the highest among all 3 types, it would be a financially sound move to increase their fleet while reducing docked bikes, as they are already preferred by members who make up for the majority of the trips.\n",
    "\n",
    "Note: Data is not available on the quantity of fleet across each type of bikes."
   ]
  },
  {
   "cell_type": "markdown",
   "id": "05ccce14",
   "metadata": {
    "papermill": {
     "duration": 0.072425,
     "end_time": "2021-06-03T09:22:39.245600",
     "exception": false,
     "start_time": "2021-06-03T09:22:39.173175",
     "status": "completed"
    },
    "tags": []
   },
   "source": [
    "#### Creating a csv file of the clean data for futher analysis or visualizations in other tools like SQL, Tableau, Power BI, etc."
   ]
  },
  {
   "cell_type": "code",
   "execution_count": 23,
   "id": "34b2aeb1",
   "metadata": {
    "execution": {
     "iopub.execute_input": "2021-06-03T09:22:39.397744Z",
     "iopub.status.busy": "2021-06-03T09:22:39.395737Z",
     "iopub.status.idle": "2021-06-03T09:22:42.968079Z",
     "shell.execute_reply": "2021-06-03T09:22:42.967100Z"
    },
    "papermill": {
     "duration": 3.650032,
     "end_time": "2021-06-03T09:22:42.968287",
     "exception": false,
     "start_time": "2021-06-03T09:22:39.318255",
     "status": "completed"
    },
    "tags": [],
    "vscode": {
     "languageId": "r"
    }
   },
   "outputs": [],
   "source": [
    "clean_data <- aggregate(all_trips_v2$trip_duration ~ all_trips_v2$customer_type + all_trips_v2$day_of_the_week, FUN = mean)\n",
    "write.csv(clean_data, \"Clean Data.csv\", row.names = F)"
   ]
  },
  {
   "cell_type": "markdown",
   "id": "aeec2542",
   "metadata": {
    "papermill": {
     "duration": 0.073253,
     "end_time": "2021-06-03T09:22:43.116050",
     "exception": false,
     "start_time": "2021-06-03T09:22:43.042797",
     "status": "completed"
    },
    "tags": []
   },
   "source": [
    "## Key Takeaways\n",
    "\n",
    "* Casual riders made 41% of total trips contributing to 66% of total trip duration between Apr'20 - Mar'21. Member riders make up 59% of total trips contributing to 34% of total trip duration between Apr'20 - Mar'21\n",
    "  \n",
    "  Usage (based on trip duration) of bikes by casual riders is almost twice that of member riders.\n",
    " \n",
    "* Casual customers use bikeshare services more during weekends, while members use them consistently over the entire week.\n",
    "\n",
    "* Average trip duration of casual riders is more than twice that of member rider over any given day of the week cumulatively.\n",
    "\n",
    "* Casual riders ride longer during first half of the year compared to the second half, while members clock relatively similar average trip duration month over month.\n",
    "\n",
    "* Casual riders prefer docked bikes the most while classic bikes are popular among members. \n",
    "\n",
    "\n",
    "## Recommendations\n",
    "\n",
    "* Provide attractive promotions for casual riders on weekdays so that casual members use the bikeshare services ore uniformly across the entire week.\n",
    "\n",
    "* Offer discounted membership fee for renewals after the first year. It might nudge casual riders to take up membership.\n",
    "\n",
    "* Offer discounted pricing during non-busy hours so that casual riders might choose to use bikes more often and level out demand over the day.\n",
    "\n",
    "\n",
    "\n"
   ]
  }
 ],
 "metadata": {
  "kernelspec": {
   "display_name": "R",
   "language": "R",
   "name": "ir"
  },
  "language_info": {
   "codemirror_mode": "r",
   "file_extension": ".r",
   "mimetype": "text/x-r-source",
   "name": "R",
   "pygments_lexer": "r",
   "version": "3.6.3"
  },
  "papermill": {
   "default_parameters": {},
   "duration": 107.776671,
   "end_time": "2021-06-03T09:22:43.547588",
   "environment_variables": {},
   "exception": null,
   "input_path": "__notebook__.ipynb",
   "output_path": "__notebook__.ipynb",
   "parameters": {},
   "start_time": "2021-06-03T09:20:55.770917",
   "version": "2.3.3"
  }
 },
 "nbformat": 4,
 "nbformat_minor": 5
}
